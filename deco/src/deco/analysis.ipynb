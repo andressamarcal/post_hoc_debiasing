{
 "cells": [
  {
   "cell_type": "code",
   "execution_count": 381,
   "metadata": {},
   "outputs": [],
   "source": [
    "import seaborn as sns\n",
    "import glob\n",
    "import pickle\n",
    "import os\n",
    "import pandas as pd\n",
    "import re\n",
    "import matplotlib.pyplot as plt\n",
    "from FairnessExperiment import *"
   ]
  },
  {
   "cell_type": "code",
   "execution_count": 382,
   "metadata": {},
   "outputs": [],
   "source": [
    "experiment_dir = f\"/home/author/fairness/deco/experiments/race.exp_{model_number}/\""
   ]
  },
  {
   "cell_type": "code",
   "execution_count": 383,
   "metadata": {},
   "outputs": [],
   "source": [
    "with open(os.path.join(\"/home/author/fairness/deco/experiments/\", f\"model_info_{model_number}.p_baselines.p\"), \"rb\") as f:\n",
    "    model_info = pickle.load(f)"
   ]
  },
  {
   "cell_type": "code",
   "execution_count": 384,
   "metadata": {},
   "outputs": [
    {
     "data": {
      "text/plain": [
       "{'reject_option_classification': {'accuracy_valid': 0.5863746958637469,\n",
       "  'accuracy_test': 0.6061588330632091,\n",
       "  'bias_valid': {'statistical_parity_difference': 0.12043165718469784,\n",
       "   'average_abs_odds_difference': 0.10469558068613824,\n",
       "   'equal_opportunity_difference': 0.0990757963264357},\n",
       "  'bias_test': {'statistical_parity_difference': 0.12264622514757595,\n",
       "   'average_abs_odds_difference': 0.09900616494053566,\n",
       "   'equal_opportunity_difference': 0.09537226387942133},\n",
       "  'time': 10.807097673416138},\n",
       " 'eq_odds_postprocessing': {'accuracy_valid': 0.5863746958637469,\n",
       "  'accuracy_test': 0.6061588330632091,\n",
       "  'bias_valid': {'statistical_parity_difference': 0.2275004213132188,\n",
       "   'average_abs_odds_difference': 0.1875,\n",
       "   'equal_opportunity_difference': 0.375},\n",
       "  'bias_test': {'statistical_parity_difference': 0.26769972232896944,\n",
       "   'average_abs_odds_difference': 0.1871165644171779,\n",
       "   'equal_opportunity_difference': 0.3742331288343558},\n",
       "  'time': 0.7453010082244873},\n",
       " 'calibrated eq_odds_postprocessing': {'accuracy_valid': 0.5385239253852393,\n",
       "  'accuracy_test': 0.5405186385737439,\n",
       "  'bias_valid': {'statistical_parity_difference': 0.48711943793911006,\n",
       "   'average_abs_odds_difference': 0.5034747374139804,\n",
       "   'equal_opportunity_difference': 0.5965909090909091},\n",
       "  'bias_test': {'statistical_parity_difference': 0.4988399071925754,\n",
       "   'average_abs_odds_difference': 0.5285115831883527,\n",
       "   'equal_opportunity_difference': 0.6503067484662577},\n",
       "  'time': 0.7724134922027588},\n",
       " 'initial': {'bias': 0.024934828,\n",
       "  'accuracy': 0.6061588330632091,\n",
       "  'threshold': 0.55}}"
      ]
     },
     "execution_count": 384,
     "metadata": {},
     "output_type": "execute_result"
    }
   ],
   "source": [
    "model_info"
   ]
  },
  {
   "cell_type": "code",
   "execution_count": 385,
   "metadata": {},
   "outputs": [],
   "source": [
    "C = 0.25"
   ]
  },
  {
   "cell_type": "code",
   "execution_count": 386,
   "metadata": {},
   "outputs": [],
   "source": [
    "def objective(bias, accuracy):\n",
    "    return (1 - C) * abs(bias) +  C * (1 - accuracy)\n"
   ]
  },
  {
   "cell_type": "code",
   "execution_count": 387,
   "metadata": {},
   "outputs": [
    {
     "data": {
      "text/plain": [
       "{'reject_option_classification': {'accuracy_valid': 0.5863746958637469,\n",
       "  'accuracy_test': 0.6061588330632091,\n",
       "  'bias_valid': {'statistical_parity_difference': 0.12043165718469784,\n",
       "   'average_abs_odds_difference': 0.10469558068613824,\n",
       "   'equal_opportunity_difference': 0.0990757963264357},\n",
       "  'bias_test': {'statistical_parity_difference': 0.12264622514757595,\n",
       "   'average_abs_odds_difference': 0.09900616494053566,\n",
       "   'equal_opportunity_difference': 0.09537226387942133},\n",
       "  'time': 10.807097673416138},\n",
       " 'eq_odds_postprocessing': {'accuracy_valid': 0.5863746958637469,\n",
       "  'accuracy_test': 0.6061588330632091,\n",
       "  'bias_valid': {'statistical_parity_difference': 0.2275004213132188,\n",
       "   'average_abs_odds_difference': 0.1875,\n",
       "   'equal_opportunity_difference': 0.375},\n",
       "  'bias_test': {'statistical_parity_difference': 0.26769972232896944,\n",
       "   'average_abs_odds_difference': 0.1871165644171779,\n",
       "   'equal_opportunity_difference': 0.3742331288343558},\n",
       "  'time': 0.7453010082244873},\n",
       " 'calibrated eq_odds_postprocessing': {'accuracy_valid': 0.5385239253852393,\n",
       "  'accuracy_test': 0.5405186385737439,\n",
       "  'bias_valid': {'statistical_parity_difference': 0.48711943793911006,\n",
       "   'average_abs_odds_difference': 0.5034747374139804,\n",
       "   'equal_opportunity_difference': 0.5965909090909091},\n",
       "  'bias_test': {'statistical_parity_difference': 0.4988399071925754,\n",
       "   'average_abs_odds_difference': 0.5285115831883527,\n",
       "   'equal_opportunity_difference': 0.6503067484662577},\n",
       "  'time': 0.7724134922027588},\n",
       " 'initial': {'bias': 0.024934828,\n",
       "  'accuracy': 0.6061588330632091,\n",
       "  'threshold': 0.55}}"
      ]
     },
     "execution_count": 387,
     "metadata": {},
     "output_type": "execute_result"
    }
   ],
   "source": [
    "model_info"
   ]
  },
  {
   "cell_type": "code",
   "execution_count": 388,
   "metadata": {},
   "outputs": [
    {
     "data": {
      "text/plain": [
       "0.11716141294524968"
      ]
     },
     "execution_count": 388,
     "metadata": {},
     "output_type": "execute_result"
    }
   ],
   "source": [
    "objective(model_info[\"initial\"][\"bias\"], model_info[\"initial\"][\"accuracy\"])"
   ]
  },
  {
   "cell_type": "code",
   "execution_count": 389,
   "metadata": {},
   "outputs": [],
   "source": [
    "def get_run_dirs(experiment_dir, metric):\n",
    "    return glob.glob(os.path.join(experiment_dir, metric, \"run_*\")) or [None]"
   ]
  },
  {
   "cell_type": "code",
   "execution_count": 390,
   "metadata": {},
   "outputs": [],
   "source": [
    "def get_trial_dirs(run_dir, metric):\n",
    "    if not(run_dir):\n",
    "        return []\n",
    "    return glob.glob(os.path.join(run_dir, \"trial_*\"))"
   ]
  },
  {
   "cell_type": "code",
   "execution_count": 391,
   "metadata": {},
   "outputs": [],
   "source": [
    "def get_initial_metrics(trial_dir, metric):\n",
    "    with open(os.path.join(trial_dir, \"out_1\"), \"r\") as f:\n",
    "        lines = f.readlines()[0:10]\n",
    "        \n",
    "    obj_prhase = \"INITIAL MODEL OBJECTIVE\"\n",
    "    bias_phrase = \"INITIAL MODEL BIAS\"\n",
    "    acc_phrase = \"INITIAL MODEL ACCURACY\"  \n",
    "    bias = float(list(filter(lambda line: bias_phrase in line,  lines))[0].split(\":\")[-1])\n",
    "    acc = float(list(filter(lambda line: acc_phrase in line,  lines))[0].split(\":\")[-1])\n",
    "    obj = float(list(filter(lambda line: obj_prhase in line,  lines))[0].split(\":\")[-1])\n",
    "\n",
    "    return {\"bias\": bias, \"accuracy\": acc, \"obj\": obj}"
   ]
  },
  {
   "cell_type": "code",
   "execution_count": 392,
   "metadata": {},
   "outputs": [],
   "source": [
    "def get_trial_data(trial_dir, metric):\n",
    "    trial_number = trial_dir.split(\"_\")[-1]\n",
    "    rows = []\n",
    "    intial_metrics = get_initial_metrics(trial_dir, metric)\n",
    "    if len(glob.glob(os.path.join(trial_dir, \"history_1.csv\"))) > 0:\n",
    "        data = pd.read_csv(os.path.join(trial_dir, \"history_1.csv\"))        \n",
    "        with open(os.path.join(trial_dir, \"layer_1_optimization_start_time\"), 'r') as myfile:\n",
    "             start_time = float(myfile.read())\n",
    "        with open(os.path.join(trial_dir, \"layer_1_optimization_stop_time\"), 'r') as myfile:\n",
    "             end_time = float(myfile.read())\n",
    "        \n",
    "        data[\"val_objective\"] = (1 - C) * data.val_bias + C* (1-data.val_accuracy)\n",
    "        data[\"test_objective\"] = (1 - C) * data.test_bias + C* (1-data.test_accuracy)\n",
    "        \n",
    "        min_val_objective = data[\"val_objective\"].min()\n",
    "        data[\"time\"] = end_time - start_time \n",
    "        \n",
    "        min_val_obj = data.val_objective.min()\n",
    "        data = data[data.val_objective == min_val_obj]\n",
    "        #min_test_obj = data.val_objective.min()\n",
    "        #data = data[data.test_objective == min_test_obj]\n",
    "\n",
    "        rows.append({\"method\": \"deco\",\n",
    "                    \"accuracy\": data.test_accuracy.mean(),\n",
    "                    \"bias\": data.test_bias.mean(),\n",
    "                    \"objective\": data.test_objective.mean()})\n",
    "        \n",
    "        queries = {\"method\": \"init\"}\n",
    "        queries[\"accuracy\"] = intial_metrics[\"accuracy\"]\n",
    "        queries[\"bias\"] = intial_metrics[\"bias\"]\n",
    "        queries[\"objective\"] = intial_metrics[\"obj\"]\n",
    "\n",
    "        rows.append(queries)\n",
    "\n",
    "            \n",
    "        \n",
    "        queries = {\"method\": \"roc\"}\n",
    "        queries[\"accuracy\"] = model_info[\"reject_option_classification\"][\"accuracy_test\"]\n",
    "        queries[\"bias\"] = model_info[\"reject_option_classification\"][\"bias_test\"][metric]\n",
    "        queries[\"objective\"] = objective(model_info[\"reject_option_classification\"][\"bias_test\"][metric],\n",
    "                                             model_info[\"reject_option_classification\"][\"accuracy_test\"],   )\n",
    "\n",
    "        rows.append(queries)\n",
    "\n",
    "        queries = {}\n",
    "        queries = {\"method\": \"eo\"}\n",
    "        queries[\"accuracy\"] = model_info[\"eq_odds_postprocessing\"][\"accuracy_test\"]\n",
    "        queries[\"bias\"] = model_info[\"eq_odds_postprocessing\"][\"bias_test\"][metric]\n",
    "        queries[\"objective\"] = objective(model_info[\"eq_odds_postprocessing\"][\"bias_test\"][metric], \n",
    "                                               model_info[\"reject_option_classification\"][\"accuracy_test\"])\n",
    "        \n",
    "        rows.append(queries)\n",
    "\n",
    "        queries = {}\n",
    "        queries = {\"method\": \"ceo\"}\n",
    "       \n",
    "        queries[\"accuracy\"] = model_info[\"calibrated eq_odds_postprocessing\"][\"accuracy_test\"]\n",
    "        queries[\"bias\"] = model_info[\"calibrated eq_odds_postprocessing\"][\"bias_test\"][metric]\n",
    "        queries[\"objective\"] = objective(model_info[\"calibrated eq_odds_postprocessing\"][\"bias_test\"][metric],\n",
    "                                                model_info[\"calibrated eq_odds_postprocessing\"][\"accuracy_test\"],)\n",
    "        rows.append(queries)\n",
    "\n",
    "        df = pd.DataFrame(rows)\n",
    "        df['metric'] = metric\n",
    "        return df\n",
    "    \n",
    "    else: \n",
    "        return None"
   ]
  },
  {
   "cell_type": "code",
   "execution_count": 394,
   "metadata": {},
   "outputs": [],
   "source": [
    "def all_trials_data(trial_dirs, metric):\n",
    "    if(trial_dirs):\n",
    "        trial_data = list(map(lambda trial_dir: get_trial_data(trial_dir, metric), trial_dirs))\n",
    "        if trial_data:\n",
    "            return pd.concat(trial_data)\n",
    "        else:\n",
    "            return pd.DataFrame() \n",
    "    else:\n",
    "        return pd.DataFrame()"
   ]
  },
  {
   "cell_type": "code",
   "execution_count": 396,
   "metadata": {},
   "outputs": [],
   "source": [
    "METRICS = [\"statistical_parity_difference\",\"equal_opportunity_difference\", \"average_abs_odds_difference\"]"
   ]
  },
  {
   "cell_type": "code",
   "execution_count": 397,
   "metadata": {},
   "outputs": [
    {
     "data": {
      "text/plain": [
       "0.6061588330632091"
      ]
     },
     "execution_count": 397,
     "metadata": {},
     "output_type": "execute_result"
    }
   ],
   "source": [
    "model_info[\"reject_option_classification\"][\"accuracy_test\"]"
   ]
  },
  {
   "cell_type": "code",
   "execution_count": 398,
   "metadata": {},
   "outputs": [],
   "source": [
    "def get_all_data_for_model(model_number):\n",
    "    experiment_dir = f\"/home/author/fairness/deco/experiments/race.exp_{model_number}/\"\n",
    "    trial_data = list(map(lambda metric: all_trials_data(get_trial_dirs(get_run_dirs(experiment_dir, \n",
    "                                                                                             metric)[0], metric), metric),\n",
    "                                  METRICS ))\n",
    "    #trial_data = list(filter(lambda x:x, trial_data))\n",
    "    if trial_data:\n",
    "        all_data = pd.concat(trial_data)\n",
    "        return all_data\n",
    "    else:\n",
    "        return pd.DataFrame()"
   ]
  },
  {
   "cell_type": "code",
   "execution_count": 400,
   "metadata": {},
   "outputs": [
    {
     "data": {
      "text/html": [
       "<div>\n",
       "<style scoped>\n",
       "    .dataframe tbody tr th:only-of-type {\n",
       "        vertical-align: middle;\n",
       "    }\n",
       "\n",
       "    .dataframe tbody tr th {\n",
       "        vertical-align: top;\n",
       "    }\n",
       "\n",
       "    .dataframe thead th {\n",
       "        text-align: right;\n",
       "    }\n",
       "</style>\n",
       "<table border=\"1\" class=\"dataframe\">\n",
       "  <thead>\n",
       "    <tr style=\"text-align: right;\">\n",
       "      <th></th>\n",
       "      <th>method</th>\n",
       "      <th>accuracy</th>\n",
       "      <th>bias</th>\n",
       "      <th>objective</th>\n",
       "      <th>metric</th>\n",
       "    </tr>\n",
       "  </thead>\n",
       "  <tbody>\n",
       "    <tr>\n",
       "      <th>0</th>\n",
       "      <td>deco</td>\n",
       "      <td>0.460292</td>\n",
       "      <td>0.000000</td>\n",
       "      <td>0.134927</td>\n",
       "      <td>equal_opportunity_difference</td>\n",
       "    </tr>\n",
       "    <tr>\n",
       "      <th>1</th>\n",
       "      <td>init</td>\n",
       "      <td>0.606159</td>\n",
       "      <td>0.024935</td>\n",
       "      <td>0.117161</td>\n",
       "      <td>equal_opportunity_difference</td>\n",
       "    </tr>\n",
       "    <tr>\n",
       "      <th>2</th>\n",
       "      <td>roc</td>\n",
       "      <td>0.606159</td>\n",
       "      <td>0.095372</td>\n",
       "      <td>0.169989</td>\n",
       "      <td>equal_opportunity_difference</td>\n",
       "    </tr>\n",
       "    <tr>\n",
       "      <th>3</th>\n",
       "      <td>eo</td>\n",
       "      <td>0.606159</td>\n",
       "      <td>0.374233</td>\n",
       "      <td>0.379135</td>\n",
       "      <td>equal_opportunity_difference</td>\n",
       "    </tr>\n",
       "    <tr>\n",
       "      <th>4</th>\n",
       "      <td>ceo</td>\n",
       "      <td>0.540519</td>\n",
       "      <td>0.650307</td>\n",
       "      <td>0.602600</td>\n",
       "      <td>equal_opportunity_difference</td>\n",
       "    </tr>\n",
       "  </tbody>\n",
       "</table>\n",
       "</div>"
      ],
      "text/plain": [
       "  method  accuracy      bias  objective                        metric\n",
       "0   deco  0.460292  0.000000   0.134927  equal_opportunity_difference\n",
       "1   init  0.606159  0.024935   0.117161  equal_opportunity_difference\n",
       "2    roc  0.606159  0.095372   0.169989  equal_opportunity_difference\n",
       "3     eo  0.606159  0.374233   0.379135  equal_opportunity_difference\n",
       "4    ceo  0.540519  0.650307   0.602600  equal_opportunity_difference"
      ]
     },
     "execution_count": 400,
     "metadata": {},
     "output_type": "execute_result"
    }
   ],
   "source": [
    "get_trial_data('/home/author/fairness/deco/experiments/race.exp_0/equal_opportunity_difference/run_0/trial_0', \n",
    "               \"equal_opportunity_difference\")"
   ]
  },
  {
   "cell_type": "code",
   "execution_count": 401,
   "metadata": {},
   "outputs": [
    {
     "data": {
      "text/html": [
       "<div>\n",
       "<style scoped>\n",
       "    .dataframe tbody tr th:only-of-type {\n",
       "        vertical-align: middle;\n",
       "    }\n",
       "\n",
       "    .dataframe tbody tr th {\n",
       "        vertical-align: top;\n",
       "    }\n",
       "\n",
       "    .dataframe thead th {\n",
       "        text-align: right;\n",
       "    }\n",
       "</style>\n",
       "<table border=\"1\" class=\"dataframe\">\n",
       "  <thead>\n",
       "    <tr style=\"text-align: right;\">\n",
       "      <th></th>\n",
       "      <th>method</th>\n",
       "      <th>accuracy</th>\n",
       "      <th>bias</th>\n",
       "      <th>objective</th>\n",
       "      <th>metric</th>\n",
       "    </tr>\n",
       "  </thead>\n",
       "  <tbody>\n",
       "    <tr>\n",
       "      <th>0</th>\n",
       "      <td>deco</td>\n",
       "      <td>0.460292</td>\n",
       "      <td>0.000000</td>\n",
       "      <td>0.134927</td>\n",
       "      <td>statistical_parity_difference</td>\n",
       "    </tr>\n",
       "    <tr>\n",
       "      <th>1</th>\n",
       "      <td>init</td>\n",
       "      <td>0.606159</td>\n",
       "      <td>0.036795</td>\n",
       "      <td>0.126057</td>\n",
       "      <td>statistical_parity_difference</td>\n",
       "    </tr>\n",
       "    <tr>\n",
       "      <th>2</th>\n",
       "      <td>roc</td>\n",
       "      <td>0.606159</td>\n",
       "      <td>0.122646</td>\n",
       "      <td>0.190445</td>\n",
       "      <td>statistical_parity_difference</td>\n",
       "    </tr>\n",
       "    <tr>\n",
       "      <th>3</th>\n",
       "      <td>eo</td>\n",
       "      <td>0.606159</td>\n",
       "      <td>0.267700</td>\n",
       "      <td>0.299235</td>\n",
       "      <td>statistical_parity_difference</td>\n",
       "    </tr>\n",
       "    <tr>\n",
       "      <th>4</th>\n",
       "      <td>ceo</td>\n",
       "      <td>0.540519</td>\n",
       "      <td>0.498840</td>\n",
       "      <td>0.489000</td>\n",
       "      <td>statistical_parity_difference</td>\n",
       "    </tr>\n",
       "    <tr>\n",
       "      <th>0</th>\n",
       "      <td>deco</td>\n",
       "      <td>0.460292</td>\n",
       "      <td>0.000000</td>\n",
       "      <td>0.134927</td>\n",
       "      <td>statistical_parity_difference</td>\n",
       "    </tr>\n",
       "    <tr>\n",
       "      <th>1</th>\n",
       "      <td>init</td>\n",
       "      <td>0.606159</td>\n",
       "      <td>0.036795</td>\n",
       "      <td>0.126057</td>\n",
       "      <td>statistical_parity_difference</td>\n",
       "    </tr>\n",
       "    <tr>\n",
       "      <th>2</th>\n",
       "      <td>roc</td>\n",
       "      <td>0.606159</td>\n",
       "      <td>0.122646</td>\n",
       "      <td>0.190445</td>\n",
       "      <td>statistical_parity_difference</td>\n",
       "    </tr>\n",
       "    <tr>\n",
       "      <th>3</th>\n",
       "      <td>eo</td>\n",
       "      <td>0.606159</td>\n",
       "      <td>0.267700</td>\n",
       "      <td>0.299235</td>\n",
       "      <td>statistical_parity_difference</td>\n",
       "    </tr>\n",
       "    <tr>\n",
       "      <th>4</th>\n",
       "      <td>ceo</td>\n",
       "      <td>0.540519</td>\n",
       "      <td>0.498840</td>\n",
       "      <td>0.489000</td>\n",
       "      <td>statistical_parity_difference</td>\n",
       "    </tr>\n",
       "    <tr>\n",
       "      <th>0</th>\n",
       "      <td>deco</td>\n",
       "      <td>0.460292</td>\n",
       "      <td>0.000000</td>\n",
       "      <td>0.134927</td>\n",
       "      <td>equal_opportunity_difference</td>\n",
       "    </tr>\n",
       "    <tr>\n",
       "      <th>1</th>\n",
       "      <td>init</td>\n",
       "      <td>0.606159</td>\n",
       "      <td>0.024935</td>\n",
       "      <td>0.117161</td>\n",
       "      <td>equal_opportunity_difference</td>\n",
       "    </tr>\n",
       "    <tr>\n",
       "      <th>2</th>\n",
       "      <td>roc</td>\n",
       "      <td>0.606159</td>\n",
       "      <td>0.095372</td>\n",
       "      <td>0.169989</td>\n",
       "      <td>equal_opportunity_difference</td>\n",
       "    </tr>\n",
       "    <tr>\n",
       "      <th>3</th>\n",
       "      <td>eo</td>\n",
       "      <td>0.606159</td>\n",
       "      <td>0.374233</td>\n",
       "      <td>0.379135</td>\n",
       "      <td>equal_opportunity_difference</td>\n",
       "    </tr>\n",
       "    <tr>\n",
       "      <th>4</th>\n",
       "      <td>ceo</td>\n",
       "      <td>0.540519</td>\n",
       "      <td>0.650307</td>\n",
       "      <td>0.602600</td>\n",
       "      <td>equal_opportunity_difference</td>\n",
       "    </tr>\n",
       "    <tr>\n",
       "      <th>0</th>\n",
       "      <td>deco</td>\n",
       "      <td>0.460292</td>\n",
       "      <td>0.000000</td>\n",
       "      <td>0.134927</td>\n",
       "      <td>average_abs_odds_difference</td>\n",
       "    </tr>\n",
       "    <tr>\n",
       "      <th>1</th>\n",
       "      <td>init</td>\n",
       "      <td>0.606159</td>\n",
       "      <td>0.028957</td>\n",
       "      <td>0.120178</td>\n",
       "      <td>average_abs_odds_difference</td>\n",
       "    </tr>\n",
       "    <tr>\n",
       "      <th>2</th>\n",
       "      <td>roc</td>\n",
       "      <td>0.606159</td>\n",
       "      <td>0.099006</td>\n",
       "      <td>0.172715</td>\n",
       "      <td>average_abs_odds_difference</td>\n",
       "    </tr>\n",
       "    <tr>\n",
       "      <th>3</th>\n",
       "      <td>eo</td>\n",
       "      <td>0.606159</td>\n",
       "      <td>0.187117</td>\n",
       "      <td>0.238798</td>\n",
       "      <td>average_abs_odds_difference</td>\n",
       "    </tr>\n",
       "    <tr>\n",
       "      <th>4</th>\n",
       "      <td>ceo</td>\n",
       "      <td>0.540519</td>\n",
       "      <td>0.528512</td>\n",
       "      <td>0.511254</td>\n",
       "      <td>average_abs_odds_difference</td>\n",
       "    </tr>\n",
       "    <tr>\n",
       "      <th>0</th>\n",
       "      <td>deco</td>\n",
       "      <td>0.460292</td>\n",
       "      <td>0.000000</td>\n",
       "      <td>0.134927</td>\n",
       "      <td>average_abs_odds_difference</td>\n",
       "    </tr>\n",
       "    <tr>\n",
       "      <th>1</th>\n",
       "      <td>init</td>\n",
       "      <td>0.606159</td>\n",
       "      <td>0.028957</td>\n",
       "      <td>0.120178</td>\n",
       "      <td>average_abs_odds_difference</td>\n",
       "    </tr>\n",
       "    <tr>\n",
       "      <th>2</th>\n",
       "      <td>roc</td>\n",
       "      <td>0.606159</td>\n",
       "      <td>0.099006</td>\n",
       "      <td>0.172715</td>\n",
       "      <td>average_abs_odds_difference</td>\n",
       "    </tr>\n",
       "    <tr>\n",
       "      <th>3</th>\n",
       "      <td>eo</td>\n",
       "      <td>0.606159</td>\n",
       "      <td>0.187117</td>\n",
       "      <td>0.238798</td>\n",
       "      <td>average_abs_odds_difference</td>\n",
       "    </tr>\n",
       "    <tr>\n",
       "      <th>4</th>\n",
       "      <td>ceo</td>\n",
       "      <td>0.540519</td>\n",
       "      <td>0.528512</td>\n",
       "      <td>0.511254</td>\n",
       "      <td>average_abs_odds_difference</td>\n",
       "    </tr>\n",
       "  </tbody>\n",
       "</table>\n",
       "</div>"
      ],
      "text/plain": [
       "  method  accuracy      bias  objective                         metric\n",
       "0   deco  0.460292  0.000000   0.134927  statistical_parity_difference\n",
       "1   init  0.606159  0.036795   0.126057  statistical_parity_difference\n",
       "2    roc  0.606159  0.122646   0.190445  statistical_parity_difference\n",
       "3     eo  0.606159  0.267700   0.299235  statistical_parity_difference\n",
       "4    ceo  0.540519  0.498840   0.489000  statistical_parity_difference\n",
       "0   deco  0.460292  0.000000   0.134927  statistical_parity_difference\n",
       "1   init  0.606159  0.036795   0.126057  statistical_parity_difference\n",
       "2    roc  0.606159  0.122646   0.190445  statistical_parity_difference\n",
       "3     eo  0.606159  0.267700   0.299235  statistical_parity_difference\n",
       "4    ceo  0.540519  0.498840   0.489000  statistical_parity_difference\n",
       "0   deco  0.460292  0.000000   0.134927   equal_opportunity_difference\n",
       "1   init  0.606159  0.024935   0.117161   equal_opportunity_difference\n",
       "2    roc  0.606159  0.095372   0.169989   equal_opportunity_difference\n",
       "3     eo  0.606159  0.374233   0.379135   equal_opportunity_difference\n",
       "4    ceo  0.540519  0.650307   0.602600   equal_opportunity_difference\n",
       "0   deco  0.460292  0.000000   0.134927    average_abs_odds_difference\n",
       "1   init  0.606159  0.028957   0.120178    average_abs_odds_difference\n",
       "2    roc  0.606159  0.099006   0.172715    average_abs_odds_difference\n",
       "3     eo  0.606159  0.187117   0.238798    average_abs_odds_difference\n",
       "4    ceo  0.540519  0.528512   0.511254    average_abs_odds_difference\n",
       "0   deco  0.460292  0.000000   0.134927    average_abs_odds_difference\n",
       "1   init  0.606159  0.028957   0.120178    average_abs_odds_difference\n",
       "2    roc  0.606159  0.099006   0.172715    average_abs_odds_difference\n",
       "3     eo  0.606159  0.187117   0.238798    average_abs_odds_difference\n",
       "4    ceo  0.540519  0.528512   0.511254    average_abs_odds_difference"
      ]
     },
     "execution_count": 401,
     "metadata": {},
     "output_type": "execute_result"
    }
   ],
   "source": [
    "get_all_data_for_model('0')"
   ]
  },
  {
   "cell_type": "code",
   "execution_count": 402,
   "metadata": {},
   "outputs": [],
   "source": [
    "all_data = pd.concat([get_all_data_for_model('a'), \n",
    "                      get_all_data_for_model('b'), \n",
    "                      get_all_data_for_model('c'), \n",
    "                      get_all_data_for_model('d'), \n",
    "                      get_all_data_for_model('0'), \n",
    "                      get_all_data_for_model('1'),\n",
    "                      get_all_data_for_model('2'), \n",
    "                      get_all_data_for_model('3'), \n",
    "                      \n",
    "                   ])"
   ]
  },
  {
   "cell_type": "code",
   "execution_count": 403,
   "metadata": {},
   "outputs": [],
   "source": [
    "all_data = all_data[all_data.accuracy>0.50]"
   ]
  },
  {
   "cell_type": "code",
   "execution_count": 404,
   "metadata": {},
   "outputs": [
    {
     "data": {
      "text/html": [
       "<div>\n",
       "<style scoped>\n",
       "    .dataframe tbody tr th:only-of-type {\n",
       "        vertical-align: middle;\n",
       "    }\n",
       "\n",
       "    .dataframe tbody tr th {\n",
       "        vertical-align: top;\n",
       "    }\n",
       "\n",
       "    .dataframe thead th {\n",
       "        text-align: right;\n",
       "    }\n",
       "</style>\n",
       "<table border=\"1\" class=\"dataframe\">\n",
       "  <thead>\n",
       "    <tr style=\"text-align: right;\">\n",
       "      <th></th>\n",
       "      <th>accuracy</th>\n",
       "      <th>bias</th>\n",
       "      <th>objective</th>\n",
       "    </tr>\n",
       "    <tr>\n",
       "      <th>metric</th>\n",
       "      <th></th>\n",
       "      <th></th>\n",
       "      <th></th>\n",
       "    </tr>\n",
       "  </thead>\n",
       "  <tbody>\n",
       "    <tr>\n",
       "      <th>average_abs_odds_difference</th>\n",
       "      <td>0.539708</td>\n",
       "      <td>0.000000</td>\n",
       "      <td>0.115073</td>\n",
       "    </tr>\n",
       "    <tr>\n",
       "      <th>equal_opportunity_difference</th>\n",
       "      <td>0.539824</td>\n",
       "      <td>0.000353</td>\n",
       "      <td>0.115309</td>\n",
       "    </tr>\n",
       "    <tr>\n",
       "      <th>statistical_parity_difference</th>\n",
       "      <td>0.540537</td>\n",
       "      <td>0.000566</td>\n",
       "      <td>0.115290</td>\n",
       "    </tr>\n",
       "  </tbody>\n",
       "</table>\n",
       "</div>"
      ],
      "text/plain": [
       "                               accuracy      bias  objective\n",
       "metric                                                      \n",
       "average_abs_odds_difference    0.539708  0.000000   0.115073\n",
       "equal_opportunity_difference   0.539824  0.000353   0.115309\n",
       "statistical_parity_difference  0.540537  0.000566   0.115290"
      ]
     },
     "execution_count": 404,
     "metadata": {},
     "output_type": "execute_result"
    }
   ],
   "source": [
    "all_data[all_data.method == 'deco'].groupby(by='metric').mean()"
   ]
  },
  {
   "cell_type": "code",
   "execution_count": 223,
   "metadata": {},
   "outputs": [],
   "source": [
    "all_data[all_data.method == 'deco'].to_csv(\"/home/author/fairness/raw_compas-race.csv\")"
   ]
  },
  {
   "cell_type": "code",
   "execution_count": 380,
   "metadata": {},
   "outputs": [
    {
     "data": {
      "text/plain": [
       "86"
      ]
     },
     "execution_count": 380,
     "metadata": {},
     "output_type": "execute_result"
    }
   ],
   "source": [
    "len(all_data)"
   ]
  },
  {
   "cell_type": "code",
   "execution_count": 285,
   "metadata": {},
   "outputs": [],
   "source": [
    "all_data = all_trials_data(get_trial_dirs(runs[0], metric), metric)"
   ]
  },
  {
   "cell_type": "code",
   "execution_count": 257,
   "metadata": {},
   "outputs": [
    {
     "data": {
      "text/plain": [
       "0.0007376870058274217"
      ]
     },
     "execution_count": 257,
     "metadata": {},
     "output_type": "execute_result"
    }
   ],
   "source": [
    "all_data[all_data.method==\"deco\"].bias.mean()"
   ]
  },
  {
   "cell_type": "code",
   "execution_count": 258,
   "metadata": {},
   "outputs": [
    {
     "data": {
      "text/plain": [
       "0.0007376870058274217"
      ]
     },
     "execution_count": 258,
     "metadata": {},
     "output_type": "execute_result"
    }
   ],
   "source": [
    "all_data[all_data.method==\"deco\"].bias.mean()"
   ]
  },
  {
   "cell_type": "code",
   "execution_count": 261,
   "metadata": {},
   "outputs": [
    {
     "data": {
      "text/html": [
       "<div>\n",
       "<style scoped>\n",
       "    .dataframe tbody tr th:only-of-type {\n",
       "        vertical-align: middle;\n",
       "    }\n",
       "\n",
       "    .dataframe tbody tr th {\n",
       "        vertical-align: top;\n",
       "    }\n",
       "\n",
       "    .dataframe thead th {\n",
       "        text-align: right;\n",
       "    }\n",
       "</style>\n",
       "<table border=\"1\" class=\"dataframe\">\n",
       "  <thead>\n",
       "    <tr style=\"text-align: right;\">\n",
       "      <th></th>\n",
       "      <th>method</th>\n",
       "      <th>accuracy</th>\n",
       "      <th>bias</th>\n",
       "      <th>objective</th>\n",
       "    </tr>\n",
       "  </thead>\n",
       "  <tbody>\n",
       "    <tr>\n",
       "      <th>0</th>\n",
       "      <td>deco</td>\n",
       "      <td>0.757435</td>\n",
       "      <td>2.436191e-03</td>\n",
       "      <td>0.062468</td>\n",
       "    </tr>\n",
       "    <tr>\n",
       "      <th>0</th>\n",
       "      <td>deco</td>\n",
       "      <td>0.759757</td>\n",
       "      <td>1.026569e-04</td>\n",
       "      <td>0.060138</td>\n",
       "    </tr>\n",
       "    <tr>\n",
       "      <th>0</th>\n",
       "      <td>deco</td>\n",
       "      <td>0.756219</td>\n",
       "      <td>1.506715e-10</td>\n",
       "      <td>0.060945</td>\n",
       "    </tr>\n",
       "    <tr>\n",
       "      <th>0</th>\n",
       "      <td>deco</td>\n",
       "      <td>0.756440</td>\n",
       "      <td>8.789236e-04</td>\n",
       "      <td>0.061549</td>\n",
       "    </tr>\n",
       "    <tr>\n",
       "      <th>0</th>\n",
       "      <td>deco</td>\n",
       "      <td>0.757214</td>\n",
       "      <td>1.156812e-03</td>\n",
       "      <td>0.061564</td>\n",
       "    </tr>\n",
       "    <tr>\n",
       "      <th>0</th>\n",
       "      <td>deco</td>\n",
       "      <td>0.756219</td>\n",
       "      <td>0.000000e+00</td>\n",
       "      <td>0.060945</td>\n",
       "    </tr>\n",
       "    <tr>\n",
       "      <th>0</th>\n",
       "      <td>deco</td>\n",
       "      <td>0.757877</td>\n",
       "      <td>3.802550e-04</td>\n",
       "      <td>0.060816</td>\n",
       "    </tr>\n",
       "    <tr>\n",
       "      <th>0</th>\n",
       "      <td>deco</td>\n",
       "      <td>0.757103</td>\n",
       "      <td>1.039308e-03</td>\n",
       "      <td>0.061504</td>\n",
       "    </tr>\n",
       "    <tr>\n",
       "      <th>0</th>\n",
       "      <td>deco</td>\n",
       "      <td>0.757988</td>\n",
       "      <td>1.382723e-03</td>\n",
       "      <td>0.061540</td>\n",
       "    </tr>\n",
       "    <tr>\n",
       "      <th>0</th>\n",
       "      <td>deco</td>\n",
       "      <td>0.756219</td>\n",
       "      <td>0.000000e+00</td>\n",
       "      <td>0.060945</td>\n",
       "    </tr>\n",
       "  </tbody>\n",
       "</table>\n",
       "</div>"
      ],
      "text/plain": [
       "  method  accuracy          bias  objective\n",
       "0   deco  0.757435  2.436191e-03   0.062468\n",
       "0   deco  0.759757  1.026569e-04   0.060138\n",
       "0   deco  0.756219  1.506715e-10   0.060945\n",
       "0   deco  0.756440  8.789236e-04   0.061549\n",
       "0   deco  0.757214  1.156812e-03   0.061564\n",
       "0   deco  0.756219  0.000000e+00   0.060945\n",
       "0   deco  0.757877  3.802550e-04   0.060816\n",
       "0   deco  0.757103  1.039308e-03   0.061504\n",
       "0   deco  0.757988  1.382723e-03   0.061540\n",
       "0   deco  0.756219  0.000000e+00   0.060945"
      ]
     },
     "execution_count": 261,
     "metadata": {},
     "output_type": "execute_result"
    }
   ],
   "source": [
    "all_data[all_data.method==\"deco\"]"
   ]
  },
  {
   "cell_type": "code",
   "execution_count": 259,
   "metadata": {},
   "outputs": [],
   "source": [
    "sns.set_style(\"darkgrid\")\n"
   ]
  },
  {
   "cell_type": "code",
   "execution_count": 260,
   "metadata": {},
   "outputs": [
    {
     "data": {
      "text/plain": [
       "Text(0.5, 0.98, 'Adult Census | statistical_parity_difference | lambda = 0.75')"
      ]
     },
     "execution_count": 260,
     "metadata": {},
     "output_type": "execute_result"
    },
    {
     "data": {
      "image/png": "[encoded data removed]",
      "text/plain": [
       "<Figure size 1296x432 with 3 Axes>"
      ]
     },
     "metadata": {},
     "output_type": "display_data"
    }
   ],
   "source": [
    "fig, axes = plt.subplots(ncols=3, nrows=1,figsize=(18,6), sharex=True)\n",
    "\n",
    "sns.barplot(data=all_data, x=\"method\", y=\"objective\", ax=axes[0])\n",
    "axes[0].set_title(f\"objective\")\n",
    "\n",
    "\n",
    "sns.barplot(data=all_data, x=\"method\", y=\"bias\",  ax=axes[1])\n",
    "axes[1].set_title(f\"bias\")\n",
    "\n",
    "\n",
    "sns.barplot(data=all_data, x=\"method\", y=\"accuracy\",  ax=axes[2])\n",
    "axes[2].set_title(f\"accuracy\")\n",
    "\n",
    "fig.suptitle(f\"Adult Census | {metric} | lambda = {1-C}\")"
   ]
  },
  {
   "cell_type": "code",
   "execution_count": null,
   "metadata": {},
   "outputs": [],
   "source": []
  },
  {
   "cell_type": "code",
   "execution_count": null,
   "metadata": {},
   "outputs": [],
   "source": []
  },
  {
   "cell_type": "code",
   "execution_count": null,
   "metadata": {},
   "outputs": [],
   "source": []
  },
  {
   "cell_type": "code",
   "execution_count": null,
   "metadata": {},
   "outputs": [],
   "source": []
  }
 ],
 "metadata": {
  "kernelspec": {
   "display_name": "Python [conda env:home] *",
   "language": "python",
   "name": "conda-env-home-py"
  },
  "language_info": {
   "codemirror_mode": {
    "name": "ipython",
    "version": 3
   },
   "file_extension": ".py",
   "mimetype": "text/x-python",
   "name": "python",
   "nbconvert_exporter": "python",
   "pygments_lexer": "ipython3",
   "version": "3.7.5"
  }
 },
 "nbformat": 4,
 "nbformat_minor": 4
}
