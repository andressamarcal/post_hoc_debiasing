{
 "cells": [
  {
   "cell_type": "markdown",
   "metadata": {},
   "source": [
    "## Magics"
   ]
  },
  {
   "cell_type": "code",
   "execution_count": 1,
   "metadata": {},
   "outputs": [],
   "source": [
    "%matplotlib inline\n",
    "%load_ext autoreload\n",
    "%autoreload 2"
   ]
  },
  {
   "cell_type": "markdown",
   "metadata": {},
   "source": [
    "## Imports"
   ]
  },
  {
   "cell_type": "code",
   "execution_count": 135,
   "metadata": {},
   "outputs": [],
   "source": [
    "import numpy as np\n",
    "import shutil\n",
    "import re\n",
    "import json\n",
    "from pathlib import Path\n",
    "import os\n",
    "from collections import namedtuple\n",
    "import pandas as pd\n",
    "import seaborn as sns\n",
    "\n",
    "import matplotlib.pyplot as plt\n",
    "from sklearn.metrics import roc_auc_score\n",
    "from sklearn.linear_model import LogisticRegressionCV\n",
    "from sklearn.ensemble import RandomForestClassifier\n",
    "plt.style.use('ggplot')\n",
    "%matplotlib inline"
   ]
  },
  {
   "cell_type": "code",
   "execution_count": 150,
   "metadata": {},
   "outputs": [
    {
     "name": "stdin",
     "output_type": "stream",
     "text": [
      "are you sure d\n"
     ]
    }
   ],
   "source": [
    "input('are you sure?')\n",
    "machines = \"\"\"\n",
    "ec2-3-233-221-255.compute-1.amazonaws.com\n",
    "ec2-3-230-154-171.compute-1.amazonaws.com\n",
    "ec2-3-235-41-184.compute-1.amazonaws.com\n",
    "ec2-3-223-3-236.compute-1.amazonaws.com\n",
    "\"\"\".split('\\n')[1:-1]\n",
    "\n",
    "\n",
    "model_path = Path('nas_results_base/')\n",
    "model_path.mkdir(exist_ok=True)\n",
    "for i in range(len(machines)):\n",
    "    (model_path/str(i)).mkdir(exist_ok=True)\n",
    "\n",
    "location = '~/fairness/deco/src/deco/post_hoc/results'\n",
    "\n",
    "for i, machine in enumerate(machines):\n",
    "    os.system(f\"scp  -i ~/.ssh/ec2-key \\\"ubuntu@{machine}:{location}/*\\\" {str(model_path)}/{i}/\")"
   ]
  },
  {
   "cell_type": "code",
   "execution_count": 179,
   "metadata": {},
   "outputs": [],
   "source": [
    "model_path = Path('nas_results_bm/')"
   ]
  },
  {
   "cell_type": "code",
   "execution_count": 180,
   "metadata": {},
   "outputs": [
    {
     "data": {
      "text/plain": [
       "40"
      ]
     },
     "execution_count": 180,
     "metadata": {},
     "output_type": "execute_result"
    }
   ],
   "source": [
    "len(list(model_path.glob('**/*test_output.json')))"
   ]
  },
  {
   "cell_type": "code",
   "execution_count": 181,
   "metadata": {},
   "outputs": [],
   "source": [
    "import json, re\n",
    "\n",
    "data = {}\n",
    "for file_results in model_path.glob('**/*test_output.json'):\n",
    "    keys = re.match(fr'{model_path}/(\\d)/(\\w+_\\w+_\\d)_(\\d)_baselines_test_output.json', str(file_results))\n",
    "    with open(file_results) as fh:\n",
    "        datum = json.load(fh)\n",
    "    data.update({keys.groups() : {(k,kk): vv for k,v in datum.items() for kk,vv in v.items()}})\n",
    "    \n",
    "plotdf = pd.DataFrame(data).T.unstack(0).unstack(0).describe().loc[['count', 'mean', 'std']].T.unstack(1).reorder_levels([2,1,0]).sort_index().swaplevel(0,1,1).sort_index(1)\n",
    "plotdf = plotdf['objective'].droplevel(0).unstack(1)"
   ]
  },
  {
   "cell_type": "code",
   "execution_count": 182,
   "metadata": {},
   "outputs": [
    {
     "data": {
      "text/html": [
       "<div>\n",
       "<style scoped>\n",
       "    .dataframe tbody tr th:only-of-type {\n",
       "        vertical-align: middle;\n",
       "    }\n",
       "\n",
       "    .dataframe tbody tr th {\n",
       "        vertical-align: top;\n",
       "    }\n",
       "\n",
       "    .dataframe thead tr th {\n",
       "        text-align: left;\n",
       "    }\n",
       "</style>\n",
       "<table border=\"1\" class=\"dataframe\">\n",
       "  <thead>\n",
       "    <tr>\n",
       "      <th></th>\n",
       "      <th colspan=\"6\" halign=\"left\">count</th>\n",
       "      <th colspan=\"6\" halign=\"left\">mean</th>\n",
       "      <th colspan=\"6\" halign=\"left\">std</th>\n",
       "    </tr>\n",
       "    <tr>\n",
       "      <th></th>\n",
       "      <th>CalibEqOdds</th>\n",
       "      <th>EqOdds</th>\n",
       "      <th>ROC</th>\n",
       "      <th>Random</th>\n",
       "      <th>adversarial</th>\n",
       "      <th>default</th>\n",
       "      <th>CalibEqOdds</th>\n",
       "      <th>EqOdds</th>\n",
       "      <th>ROC</th>\n",
       "      <th>Random</th>\n",
       "      <th>adversarial</th>\n",
       "      <th>default</th>\n",
       "      <th>CalibEqOdds</th>\n",
       "      <th>EqOdds</th>\n",
       "      <th>ROC</th>\n",
       "      <th>Random</th>\n",
       "      <th>adversarial</th>\n",
       "      <th>default</th>\n",
       "    </tr>\n",
       "  </thead>\n",
       "  <tbody>\n",
       "    <tr>\n",
       "      <th>0</th>\n",
       "      <td>10.0</td>\n",
       "      <td>10.0</td>\n",
       "      <td>10.0</td>\n",
       "      <td>10.0</td>\n",
       "      <td>10.0</td>\n",
       "      <td>10.0</td>\n",
       "      <td>0.083926</td>\n",
       "      <td>0.09339</td>\n",
       "      <td>0.062682</td>\n",
       "      <td>0.044575</td>\n",
       "      <td>0.032909</td>\n",
       "      <td>0.068397</td>\n",
       "      <td>0.014867</td>\n",
       "      <td>1.462847e-17</td>\n",
       "      <td>0.007684</td>\n",
       "      <td>0.008512</td>\n",
       "      <td>0.001256</td>\n",
       "      <td>0.010663</td>\n",
       "    </tr>\n",
       "    <tr>\n",
       "      <th>1</th>\n",
       "      <td>10.0</td>\n",
       "      <td>10.0</td>\n",
       "      <td>10.0</td>\n",
       "      <td>10.0</td>\n",
       "      <td>10.0</td>\n",
       "      <td>10.0</td>\n",
       "      <td>0.042286</td>\n",
       "      <td>0.09339</td>\n",
       "      <td>0.098475</td>\n",
       "      <td>0.054761</td>\n",
       "      <td>0.034945</td>\n",
       "      <td>0.054667</td>\n",
       "      <td>0.010756</td>\n",
       "      <td>1.462847e-17</td>\n",
       "      <td>0.064142</td>\n",
       "      <td>0.057453</td>\n",
       "      <td>0.004748</td>\n",
       "      <td>0.015785</td>\n",
       "    </tr>\n",
       "    <tr>\n",
       "      <th>2</th>\n",
       "      <td>10.0</td>\n",
       "      <td>10.0</td>\n",
       "      <td>10.0</td>\n",
       "      <td>10.0</td>\n",
       "      <td>10.0</td>\n",
       "      <td>10.0</td>\n",
       "      <td>0.108744</td>\n",
       "      <td>0.09339</td>\n",
       "      <td>0.068692</td>\n",
       "      <td>0.042014</td>\n",
       "      <td>0.037210</td>\n",
       "      <td>0.078463</td>\n",
       "      <td>0.017693</td>\n",
       "      <td>1.462847e-17</td>\n",
       "      <td>0.014549</td>\n",
       "      <td>0.008940</td>\n",
       "      <td>0.011745</td>\n",
       "      <td>0.014007</td>\n",
       "    </tr>\n",
       "    <tr>\n",
       "      <th>4</th>\n",
       "      <td>10.0</td>\n",
       "      <td>10.0</td>\n",
       "      <td>10.0</td>\n",
       "      <td>10.0</td>\n",
       "      <td>10.0</td>\n",
       "      <td>10.0</td>\n",
       "      <td>0.084200</td>\n",
       "      <td>0.09339</td>\n",
       "      <td>0.062406</td>\n",
       "      <td>0.041256</td>\n",
       "      <td>0.036037</td>\n",
       "      <td>0.057130</td>\n",
       "      <td>0.023692</td>\n",
       "      <td>1.462847e-17</td>\n",
       "      <td>0.018128</td>\n",
       "      <td>0.008959</td>\n",
       "      <td>0.007760</td>\n",
       "      <td>0.011115</td>\n",
       "    </tr>\n",
       "  </tbody>\n",
       "</table>\n",
       "</div>"
      ],
      "text/plain": [
       "        count                                                mean           \\\n",
       "  CalibEqOdds EqOdds   ROC Random adversarial default CalibEqOdds   EqOdds   \n",
       "0        10.0   10.0  10.0   10.0        10.0    10.0    0.083926  0.09339   \n",
       "1        10.0   10.0  10.0   10.0        10.0    10.0    0.042286  0.09339   \n",
       "2        10.0   10.0  10.0   10.0        10.0    10.0    0.108744  0.09339   \n",
       "4        10.0   10.0  10.0   10.0        10.0    10.0    0.084200  0.09339   \n",
       "\n",
       "                                                    std                \\\n",
       "        ROC    Random adversarial   default CalibEqOdds        EqOdds   \n",
       "0  0.062682  0.044575    0.032909  0.068397    0.014867  1.462847e-17   \n",
       "1  0.098475  0.054761    0.034945  0.054667    0.010756  1.462847e-17   \n",
       "2  0.068692  0.042014    0.037210  0.078463    0.017693  1.462847e-17   \n",
       "4  0.062406  0.041256    0.036037  0.057130    0.023692  1.462847e-17   \n",
       "\n",
       "                                             \n",
       "        ROC    Random adversarial   default  \n",
       "0  0.007684  0.008512    0.001256  0.010663  \n",
       "1  0.064142  0.057453    0.004748  0.015785  \n",
       "2  0.014549  0.008940    0.011745  0.014007  \n",
       "4  0.018128  0.008959    0.007760  0.011115  "
      ]
     },
     "execution_count": 182,
     "metadata": {},
     "output_type": "execute_result"
    }
   ],
   "source": [
    "plotdf"
   ]
  },
  {
   "cell_type": "code",
   "execution_count": 183,
   "metadata": {},
   "outputs": [
    {
     "data": {
      "image/png": "[encoded data removed]",
      "text/plain": [
       "<Figure size 720x360 with 1 Axes>"
      ]
     },
     "metadata": {
      "needs_background": "light"
     },
     "output_type": "display_data"
    }
   ],
   "source": [
    "plotdf.index = ['base', 'more dropout', 'more width', 'more layers']\n",
    "\n",
    "# titlename = {'spd': 'Statistical Parity Difference', 'eod': 'Equal Opportunity Difference', 'aod': 'Average Odds Difference'}\n",
    "column_order = ['default', 'ROC', 'EqOdds', 'CalibEqOdds', 'Random', 'adversarial', 'layerwiseOpt']\n",
    "col_rename = {'default': 'Default', 'adversarial': 'Adversarial', 'layerwiseOpt': 'LayerwiseOpt'}\n",
    "\n",
    "plotmean = plotdf['mean'].reindex(columns=column_order).rename(columns=col_rename)\n",
    "plotstd = plotdf['std'].reindex(columns=column_order).rename(columns=col_rename)\n",
    "plotmean.plot(kind='bar', yerr=plotstd, figsize=(10,5), rot=0)\n",
    "plt.ylabel('Objective: $\\lambda$|SPD| + $(1-\\lambda)(1-$accuracy$)$')\n",
    "plt.xlabel('Architecture BM (sex)')\n",
    "plt.gca().legend(loc='upper center', bbox_to_anchor=(0.5, -0.15), ncol=7)\n",
    "plt.tight_layout()\n",
    "# plt.savefig(f'images/{metric}_results.pdf')\n",
    "plt.savefig(f'images/multinet_bm_results.png')\n",
    "plt.savefig(f'images/multinet_bm_results.pdf')"
   ]
  },
  {
   "cell_type": "code",
   "execution_count": 103,
   "metadata": {},
   "outputs": [],
   "source": [
    "from post_hoc.posthoc import *"
   ]
  },
  {
   "cell_type": "code",
   "execution_count": 104,
   "metadata": {},
   "outputs": [
    {
     "name": "stderr",
     "output_type": "stream",
     "text": [
      "2020-06-10 18:25:17,752 - root - WARNING - Missing Data: 3620 rows removed from AdultDataset.\n",
      "2020-06-10 18:26:32,447 - root - WARNING - Missing Data: 10700 rows removed from BankDataset.\n",
      "2020-06-10 18:27:14,361 - root - WARNING - Missing Data: 5 rows removed from CompasDataset.\n"
     ]
    }
   ],
   "source": [
    "datasets = ['adult', 'bank', 'compas']\n",
    "results = {}\n",
    "\n",
    "for dataset in datasets:\n",
    "    train, valid, test, priv, unpriv = get_data(dataset, 1)\n",
    "    priv_index = train.protected_attribute_names.index(list(priv[0].keys())[0])\n",
    "\n",
    "    scale_orig = StandardScaler()\n",
    "    X_train = torch.tensor(scale_orig.fit_transform(train.features), dtype=torch.float32)\n",
    "    y_train = torch.tensor(train.labels.ravel(), dtype=torch.float32)\n",
    "    # p_train = train.protected_attributes[:, priv_index]\n",
    "\n",
    "    X_valid = torch.tensor(scale_orig.transform(valid.features), dtype=torch.float32)\n",
    "    y_valid = torch.tensor(valid.labels.ravel(), dtype=torch.float32)\n",
    "    p_valid = valid.protected_attributes[:, priv_index]\n",
    "\n",
    "    X_test = torch.tensor(scale_orig.transform(test.features), dtype=torch.float32)\n",
    "    y_test = torch.tensor(test.labels.ravel(), dtype=torch.float32)\n",
    "    p_test = test.protected_attributes[:, priv_index]\n",
    "\n",
    "    model = Model(X_train.size(1))\n",
    "\n",
    "    roc_auc_scores = []\n",
    "    accs = []\n",
    "    for path in model_path.glob('*'):\n",
    "        if dataset in str(path):\n",
    "            model.load_state_dict(torch.load(path))\n",
    "            model.eval()\n",
    "            with torch.no_grad():\n",
    "                yhat_test = model(X_test)[:, 0].reshape(-1, 1).numpy()\n",
    "            roc_auc_scores.append(roc_auc_score(y_test, yhat_test))\n",
    "\n",
    "            model.eval()\n",
    "            with torch.no_grad():\n",
    "                yhat_valid = model(X_valid)[:, 0].reshape(-1, 1).numpy()\n",
    "                \n",
    "            threshs = np.linspace(0,1,1001)\n",
    "            bthresh = threshs[np.argmax([accuracy_score(y_valid, yhat_valid > thresh) for thresh in threshs])]\n",
    "            accs.append(accuracy_score(y_test, yhat_test > bthresh))\n",
    "    results[(dataset,  'neural network', 'roc_auc')] = roc_auc_scores\n",
    "    results[(dataset, 'neural network', 'accuracy')] = accs\n",
    "    \n",
    "    roc_auc_scores = []\n",
    "    accs = []\n",
    "    for i in range(10):\n",
    "        lr = LogisticRegressionCV()\n",
    "        lr.fit(X_train, y_train)\n",
    "        \n",
    "        yhat_test = lr.predict_proba(X_test)[:,1]\n",
    "        roc_auc_scores.append(roc_auc_score(y_test, yhat_test))\n",
    "        \n",
    "        yhat_valid = lr.predict_proba(X_valid)[:,1]\n",
    "        threshs = np.linspace(0,1,1001)\n",
    "        bthresh = threshs[np.argmax([accuracy_score(y_valid, yhat_valid > thresh) for thresh in threshs])]\n",
    "        accs.append(accuracy_score(y_test, yhat_test > bthresh))\n",
    "    results[(dataset,  'logistic regression', 'roc_auc')] = roc_auc_scores\n",
    "    results[(dataset, 'logistic regression', 'accuracy')] = accs\n",
    "    \n",
    "    \n",
    "    roc_auc_scores = []\n",
    "    accs = []\n",
    "    for i in range(10):\n",
    "        rf = RandomForestClassifier()\n",
    "        rf.fit(X_train, y_train)\n",
    "        \n",
    "        yhat_test = rf.predict_proba(X_test)[:,1]\n",
    "        roc_auc_scores.append(roc_auc_score(y_test, yhat_test))\n",
    "        \n",
    "        yhat_valid = rf.predict_proba(X_valid)[:,1]\n",
    "        threshs = np.linspace(0,1,1001)\n",
    "        bthresh = threshs[np.argmax([accuracy_score(y_valid, yhat_valid > thresh) for thresh in threshs])]\n",
    "        accs.append(accuracy_score(y_test, yhat_test > bthresh))\n",
    "    results[(dataset,  'random forest', 'roc_auc')] = roc_auc_scores\n",
    "    results[(dataset, 'random forest', 'accuracy')] = accs\n",
    "    "
   ]
  },
  {
   "cell_type": "code",
   "execution_count": 105,
   "metadata": {},
   "outputs": [
    {
     "data": {
      "text/html": [
       "<div>\n",
       "<style scoped>\n",
       "    .dataframe tbody tr th:only-of-type {\n",
       "        vertical-align: middle;\n",
       "    }\n",
       "\n",
       "    .dataframe tbody tr th {\n",
       "        vertical-align: top;\n",
       "    }\n",
       "\n",
       "    .dataframe thead th {\n",
       "        text-align: right;\n",
       "    }\n",
       "</style>\n",
       "<table border=\"1\" class=\"dataframe\">\n",
       "  <thead>\n",
       "    <tr style=\"text-align: right;\">\n",
       "      <th></th>\n",
       "      <th></th>\n",
       "      <th>logistic regression</th>\n",
       "      <th>neural network</th>\n",
       "      <th>random forest</th>\n",
       "    </tr>\n",
       "  </thead>\n",
       "  <tbody>\n",
       "    <tr>\n",
       "      <th rowspan=\"2\" valign=\"top\">adult</th>\n",
       "      <th>accuracy</th>\n",
       "      <td>0.852 $\\pm$ 0.000</td>\n",
       "      <td>0.855 $\\pm$ 0.002</td>\n",
       "      <td>0.844 $\\pm$ 0.002</td>\n",
       "    </tr>\n",
       "    <tr>\n",
       "      <th>roc_auc</th>\n",
       "      <td>0.904 $\\pm$ 0.000</td>\n",
       "      <td>0.908 $\\pm$ 0.001</td>\n",
       "      <td>0.889 $\\pm$ 0.000</td>\n",
       "    </tr>\n",
       "    <tr>\n",
       "      <th rowspan=\"2\" valign=\"top\">bank</th>\n",
       "      <th>accuracy</th>\n",
       "      <td>0.901 $\\pm$ 0.000</td>\n",
       "      <td>0.901 $\\pm$ 0.002</td>\n",
       "      <td>0.899 $\\pm$ 0.001</td>\n",
       "    </tr>\n",
       "    <tr>\n",
       "      <th>roc_auc</th>\n",
       "      <td>0.930 $\\pm$ 0.000</td>\n",
       "      <td>0.934 $\\pm$ 0.001</td>\n",
       "      <td>0.932 $\\pm$ 0.001</td>\n",
       "    </tr>\n",
       "    <tr>\n",
       "      <th rowspan=\"2\" valign=\"top\">compas</th>\n",
       "      <th>accuracy</th>\n",
       "      <td>0.677 $\\pm$ 0.000</td>\n",
       "      <td>0.641 $\\pm$ 0.061</td>\n",
       "      <td>0.652 $\\pm$ 0.006</td>\n",
       "    </tr>\n",
       "    <tr>\n",
       "      <th>roc_auc</th>\n",
       "      <td>0.725 $\\pm$ 0.000</td>\n",
       "      <td>0.679 $\\pm$ 0.088</td>\n",
       "      <td>0.695 $\\pm$ 0.002</td>\n",
       "    </tr>\n",
       "  </tbody>\n",
       "</table>\n",
       "</div>"
      ],
      "text/plain": [
       "                logistic regression     neural network      random forest\n",
       "adult  accuracy   0.852 $\\pm$ 0.000  0.855 $\\pm$ 0.002  0.844 $\\pm$ 0.002\n",
       "       roc_auc    0.904 $\\pm$ 0.000  0.908 $\\pm$ 0.001  0.889 $\\pm$ 0.000\n",
       "bank   accuracy   0.901 $\\pm$ 0.000  0.901 $\\pm$ 0.002  0.899 $\\pm$ 0.001\n",
       "       roc_auc    0.930 $\\pm$ 0.000  0.934 $\\pm$ 0.001  0.932 $\\pm$ 0.001\n",
       "compas accuracy   0.677 $\\pm$ 0.000  0.641 $\\pm$ 0.061  0.652 $\\pm$ 0.006\n",
       "       roc_auc    0.725 $\\pm$ 0.000  0.679 $\\pm$ 0.088  0.695 $\\pm$ 0.002"
      ]
     },
     "execution_count": 105,
     "metadata": {},
     "output_type": "execute_result"
    }
   ],
   "source": [
    "tmp = pd.DataFrame(results).describe().loc[['count', 'mean', 'std']].T\n",
    "df = (tmp['mean'].map('{:.3f}'.format) + ' $\\pm$ ' + tmp['std'].map('{:.3f}'.format)).unstack(1)\n",
    "df"
   ]
  },
  {
   "cell_type": "code",
   "execution_count": 106,
   "metadata": {},
   "outputs": [
    {
     "name": "stdout",
     "output_type": "stream",
     "text": [
      "\\begin{tabular}{lllll}\n",
      "\\toprule\n",
      "       &         & logistic regression &     neural network &      random forest \\\\\n",
      "\\midrule\n",
      "adult & accuracy &   0.852 \\$\\textbackslash pm\\$ 0.000 &  0.855 \\$\\textbackslash pm\\$ 0.002 &  0.844 \\$\\textbackslash pm\\$ 0.002 \\\\\n",
      "       & roc\\_auc &   0.904 \\$\\textbackslash pm\\$ 0.000 &  0.908 \\$\\textbackslash pm\\$ 0.001 &  0.889 \\$\\textbackslash pm\\$ 0.000 \\\\\n",
      "bank & accuracy &   0.901 \\$\\textbackslash pm\\$ 0.000 &  0.901 \\$\\textbackslash pm\\$ 0.002 &  0.899 \\$\\textbackslash pm\\$ 0.001 \\\\\n",
      "       & roc\\_auc &   0.930 \\$\\textbackslash pm\\$ 0.000 &  0.934 \\$\\textbackslash pm\\$ 0.001 &  0.932 \\$\\textbackslash pm\\$ 0.001 \\\\\n",
      "compas & accuracy &   0.677 \\$\\textbackslash pm\\$ 0.000 &  0.641 \\$\\textbackslash pm\\$ 0.061 &  0.652 \\$\\textbackslash pm\\$ 0.006 \\\\\n",
      "       & roc\\_auc &   0.725 \\$\\textbackslash pm\\$ 0.000 &  0.679 \\$\\textbackslash pm\\$ 0.088 &  0.695 \\$\\textbackslash pm\\$ 0.002 \\\\\n",
      "\\bottomrule\n",
      "\\end{tabular}\n",
      "\n"
     ]
    }
   ],
   "source": [
    "print(df.to_latex())"
   ]
  },
  {
   "cell_type": "code",
   "execution_count": 122,
   "metadata": {},
   "outputs": [
    {
     "data": {
      "text/plain": [
       "'compas'"
      ]
     },
     "execution_count": 122,
     "metadata": {},
     "output_type": "execute_result"
    }
   ],
   "source": [
    "dataset"
   ]
  },
  {
   "cell_type": "code",
   "execution_count": 164,
   "metadata": {},
   "outputs": [
    {
     "name": "stderr",
     "output_type": "stream",
     "text": [
      "2020-06-10 19:39:12,730 - root - WARNING - Missing Data: 3620 rows removed from AdultDataset.\n"
     ]
    }
   ],
   "source": [
    "train, valid, test, priv, unpriv = get_data('adult', 1)\n",
    "priv_index = train.protected_attribute_names.index(list(priv[0].keys())[0])\n",
    "\n",
    "scale_orig = StandardScaler()\n",
    "X_train = torch.tensor(scale_orig.fit_transform(train.features), dtype=torch.float32)\n",
    "y_train = torch.tensor(train.labels.ravel(), dtype=torch.float32)\n",
    "# p_train = train.protected_attributes[:, priv_index]\n",
    "\n",
    "X_valid = torch.tensor(scale_orig.transform(valid.features), dtype=torch.float32)\n",
    "y_valid = torch.tensor(valid.labels.ravel(), dtype=torch.float32)\n",
    "p_valid = valid.protected_attributes[:, priv_index]\n",
    "\n",
    "X_test = torch.tensor(scale_orig.transform(test.features), dtype=torch.float32)\n",
    "y_test = torch.tensor(test.labels.ravel(), dtype=torch.float32)\n",
    "p_test = test.protected_attributes[:, priv_index]\n",
    "\n",
    "model = Model(X_train.size(1))\n",
    "deltas = []\n",
    "biases = []\n",
    "for path in model_path.glob('*'):\n",
    "    if 'adult' in str(path):\n",
    "        deltas.append([])\n",
    "        biases.append([])\n",
    "        for i in range(1000):\n",
    "            model.load_state_dict(torch.load(path))\n",
    "            delta = []\n",
    "            for param in model.parameters():\n",
    "                delta.append(torch.randn_like(param) * 0.1 + 1)\n",
    "                param.data = param.data * delta[-1]\n",
    "            delta = torch.cat([x.reshape(-1) for x in delta])\n",
    "            deltas[-1].append(delta)\n",
    "\n",
    "            model.eval()\n",
    "            with torch.no_grad():\n",
    "                yhat_test = model(X_test)[:, 0].reshape(-1, 1).numpy()\n",
    "            bias = compute_bias(yhat_test, y_test.numpy(), p_test, metric='spd')\n",
    "            biases[-1].append(bias)"
   ]
  },
  {
   "cell_type": "code",
   "execution_count": 168,
   "metadata": {},
   "outputs": [],
   "source": [
    "shape = len(deltas[0])\n",
    "train = torch.randperm(shape)[:int(shape*0.8)]\n",
    "test = torch.randperm(shape)[int(shape*0.8):]"
   ]
  },
  {
   "cell_type": "code",
   "execution_count": 169,
   "metadata": {},
   "outputs": [
    {
     "name": "stdout",
     "output_type": "stream",
     "text": [
      "[0.8561326047456524, 0.7683091644536558, 0.8671310757815001, 0.8460479705287975, 0.864636679868098, 0.9003736860341522, 0.9149808181785867, 0.8928201750676319, 0.8842704640037174, 0.8195441779648978]\n"
     ]
    }
   ],
   "source": [
    "from sklearn.linear_model import LinearRegression\n",
    "coefs = []\n",
    "scores = []\n",
    "for d, b in zip(deltas, biases):\n",
    "    lr = LinearRegression()\n",
    "    lr.fit(torch.stack(d).numpy()[train], np.array(b)[train])\n",
    "    scores.append(lr.score(torch.stack(d).numpy()[test], np.array(b)[test]))\n",
    "    coefs.append(lr.coef_)\n",
    "coefs = np.array(coefs)"
   ]
  },
  {
   "cell_type": "code",
   "execution_count": 193,
   "metadata": {},
   "outputs": [
    {
     "name": "stdout",
     "output_type": "stream",
     "text": [
      "0.861 $\\pm$ 0.090\n"
     ]
    }
   ],
   "source": [
    "print(f'{np.array(scores).mean():.3f} $\\pm$ {2.2*np.array(scores).std():.3f}')"
   ]
  },
  {
   "cell_type": "code",
   "execution_count": 180,
   "metadata": {},
   "outputs": [
    {
     "data": {
      "image/png": "[encoded data removed]",
      "text/plain": [
       "<Figure size 720x360 with 1 Axes>"
      ]
     },
     "metadata": {
      "needs_background": "light"
     },
     "output_type": "display_data"
    }
   ],
   "source": [
    "plt.figure(figsize=(10,5))\n",
    "pdf = pd.DataFrame(np.sort(np.abs(coefs)))\n",
    "pdf.mean().plot()\n",
    "plt.fill_between(pdf.std().index, pdf.mean() - 2.2*pdf.std(), pdf.mean() + 2.2*pdf.std(),alpha=0.4)\n",
    "plt.xlabel('index of sorted coefficients')\n",
    "plt.ylabel('coefficient value')\n",
    "plt.savefig('coefs_sort.pdf')"
   ]
  },
  {
   "cell_type": "code",
   "execution_count": 181,
   "metadata": {},
   "outputs": [
    {
     "data": {
      "text/plain": [
       "(10, 14498)"
      ]
     },
     "execution_count": 181,
     "metadata": {},
     "output_type": "execute_result"
    }
   ],
   "source": [
    "coefs.shape"
   ]
  },
  {
   "cell_type": "code",
   "execution_count": 182,
   "metadata": {},
   "outputs": [],
   "source": [
    "from scipy.linalg import svd"
   ]
  },
  {
   "cell_type": "code",
   "execution_count": 183,
   "metadata": {},
   "outputs": [],
   "source": [
    "from sklearn.preprocessing import normalize"
   ]
  },
  {
   "cell_type": "code",
   "execution_count": 184,
   "metadata": {},
   "outputs": [],
   "source": [
    "U,s,Vh = svd(normalize(coefs))"
   ]
  },
  {
   "cell_type": "code",
   "execution_count": 185,
   "metadata": {},
   "outputs": [
    {
     "data": {
      "text/plain": [
       "((10, 10), (10,), (14498, 14498))"
      ]
     },
     "execution_count": 185,
     "metadata": {},
     "output_type": "execute_result"
    }
   ],
   "source": [
    "U.shape, s.shape, Vh.shape"
   ]
  },
  {
   "cell_type": "code",
   "execution_count": 186,
   "metadata": {},
   "outputs": [
    {
     "data": {
      "image/png": "[encoded data removed]",
      "text/plain": [
       "<Figure size 720x360 with 1 Axes>"
      ]
     },
     "metadata": {
      "needs_background": "light"
     },
     "output_type": "display_data"
    }
   ],
   "source": [
    "plt.figure(figsize=(10,5))\n",
    "plt.plot(np.arange(0,s.size), s)\n",
    "plt.xlabel('singular value index')\n",
    "plt.ylabel('singular value')\n",
    "plt.savefig('coefs_svd.pdf')"
   ]
  },
  {
   "cell_type": "code",
   "execution_count": 195,
   "metadata": {},
   "outputs": [],
   "source": [
    "yash1 = 'ec2-3-233-221-255.compute-1.amazonaws.com'\n",
    "yash2 = 'ec2-3-230-154-171.compute-1.amazonaws.com'\n",
    "yash3 = 'ec2-3-235-41-184.compute-1.amazonaws.com'\n",
    "yash4 = 'ec2-3-223-3-236.compute-1.amazonaws.com'\n",
    "yashs = [yash1, yash2, yash3, yash4]\n",
    "\n",
    "results_path = Path('NAS/')\n",
    "# shutil.rmtree(results_path)\n",
    "results_path.mkdir(exist_ok=True)\n",
    "\n",
    "location = '~/fairness/deco/src/deco/post_hoc/results'\n",
    "\n",
    "for i, yash in enumerate(yashs):\n",
    "    results_dirpath = Path(f'NAS/{i}')\n",
    "    results_dirpath.mkdir(exist_ok=True)\n",
    "    os.system(f\"scp  -i ~/.ssh/ec2-key \\\"ubuntu@{yash}:{location}/*\\\" {str(results_dirpath)}/\")"
   ]
  },
  {
   "cell_type": "code",
   "execution_count": 196,
   "metadata": {},
   "outputs": [],
   "source": [
    "import json, re\n",
    "data = {}\n",
    "for result_file in results_path.glob('**/*.json'):\n",
    "#     print(result_file)\n",
    "    matches = re.match(r'NAS/(?P<nn_type>\\d+)/(?P<dataset>\\w+)_(?P<bias>\\w+)_(?P<protected>\\d+)_(?P<iter>\\d+)_baselines_(?P<fold>\\w+)_output.json', str(result_file))\n",
    "    if matches.group('fold') == 'valid':\n",
    "        continue\n",
    "    with open(result_file, 'r') as fh:\n",
    "        datum = json.load(fh)\n",
    "    datum = {(matches.group('nn_type'), matches.group('iter'), k): v for k,v in datum.items()}\n",
    "    data.update(datum)\n",
    "#     data = dict(data, **datum)"
   ]
  },
  {
   "cell_type": "code",
   "execution_count": 197,
   "metadata": {},
   "outputs": [
    {
     "data": {
      "image/png": "[encoded data removed]",
      "text/plain": [
       "<Figure size 720x360 with 1 Axes>"
      ]
     },
     "metadata": {
      "needs_background": "light"
     },
     "output_type": "display_data"
    }
   ],
   "source": [
    "plotdf = pd.DataFrame(data).stack(1).unstack(0).describe().loc[['count', 'mean', 'std']].T.unstack(-1).loc[:,(slice(None, None),'objective')].droplevel(1,1).unstack(1)\n",
    "plotdf.index = ['neural network 1', 'neural network 2', 'neural network 3', 'neural network 4']\n",
    "\n",
    "# titlename = {'spd': 'Statistical Parity Difference', 'eod': 'Equal Opportunity Difference', 'aod': 'Average Odds Difference'}\n",
    "column_order = ['default', 'ROC', 'EqOdds', 'CalibEqOdds', 'Random', 'adversarial', 'layerwiseOpt']\n",
    "col_rename = {'default': 'Default', 'adversarial': 'Adversarial', 'layerwiseOpt': 'LayerwiseOpt'}\n",
    "\n",
    "plotmean = plotdf['mean'].reindex(columns=column_order).rename(columns=col_rename)\n",
    "plotstd = plotdf['std'].reindex(columns=column_order).rename(columns=col_rename)\n",
    "plotmean.plot(kind='bar', yerr=plotstd, figsize=(10,5), rot=0)\n",
    "plt.ylabel('Objective')\n",
    "plt.xlabel('Dataset')\n",
    "plt.gca().legend(loc='upper center', bbox_to_anchor=(0.5, -0.15), ncol=7)\n",
    "plt.tight_layout()\n",
    "# plt.savefig(f'images/{metric}_results.pdf')\n",
    "plt.savefig(f'images/multinet_results.png')\n",
    "plt.savefig(f'images/multinet_results.pdf')"
   ]
  },
  {
   "cell_type": "code",
   "execution_count": null,
   "metadata": {},
   "outputs": [],
   "source": []
  }
 ],
 "metadata": {
  "kernelspec": {
   "display_name": "deco",
   "language": "python",
   "name": "deco"
  },
  "language_info": {
   "codemirror_mode": {
    "name": "ipython",
    "version": 3
   },
   "file_extension": ".py",
   "mimetype": "text/x-python",
   "name": "python",
   "nbconvert_exporter": "python",
   "pygments_lexer": "ipython3",
   "version": "3.7.7"
  }
 },
 "nbformat": 4,
 "nbformat_minor": 4
}
