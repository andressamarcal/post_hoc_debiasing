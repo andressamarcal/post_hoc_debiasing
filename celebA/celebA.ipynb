{
 "cells": [
  {
   "cell_type": "markdown",
   "metadata": {},
   "source": [
    "# CelebA"
   ]
  },
  {
   "cell_type": "markdown",
   "metadata": {},
   "source": [
    "## download: (1) zip of all images, (2) annotations txt file\n",
    "### https://drive.google.com/file/d/0B7EVK8r0v71pZjFTYXZWM3FlRnM/view?usp=sharing\n",
    "### https://drive.google.com/file/d/0B7EVK8r0v71pd0FJY3Blby1HUTQ/view?usp=sharing"
   ]
  },
  {
   "cell_type": "code",
   "execution_count": null,
   "metadata": {},
   "outputs": [],
   "source": [
    "%load_ext autoreload\n",
    "%autoreload 2\n",
    "%matplotlib inline"
   ]
  },
  {
   "cell_type": "code",
   "execution_count": null,
   "metadata": {},
   "outputs": [],
   "source": [
    "import numpy as np\n",
    "import matplotlib.pyplot as plt\n",
    "import sys\n",
    "import os\n",
    "from os import listdir\n",
    "from os.path import isfile, join\n",
    "from PIL import Image\n",
    "import cv2"
   ]
  },
  {
   "cell_type": "code",
   "execution_count": null,
   "metadata": {},
   "outputs": [],
   "source": [
    "def load(n=100, folder='img_align_celeba'):\n",
    "    # convert the folder of images into a numpy array\n",
    "    \n",
    "    data = []\n",
    "    num = 0\n",
    "    for i in range(1,n+1):\n",
    "        file = str(i).zfill(6)+'.jpg'\n",
    "        img = Image.open(join(folder, file))\n",
    "        img = np.array(img)\n",
    "        data.append(img)\n",
    "\n",
    "    data = np.array(data)\n",
    "    return data\n",
    "\n",
    "def plot(data, n):\n",
    "    # quick plotting method\n",
    "    plt.figure(figsize=(20,10))\n",
    "    columns = n\n",
    "        \n",
    "    for i in range(n):\n",
    "        plt.subplot(1, columns, i + 1)\n",
    "        img = data[i]\n",
    "        img = img.astype(int)\n",
    "        plt.axis('off')\n",
    "        plt.imshow(img)\n",
    "\n",
    "def load_attrs(file='list_attr_celeba.txt', max_n=-1):\n",
    "    # parse the features\n",
    "    f = open(file, \"r\")\n",
    "    attrs = []\n",
    "    descriptions = []\n",
    "    num_attrs = 0\n",
    "    n = 0\n",
    "    for index,line in enumerate(f):\n",
    "    \n",
    "        #the first row is the header\n",
    "        if index == 0:\n",
    "            n = line\n",
    "        elif index == 1:\n",
    "            descriptions = [*line.split()]\n",
    "            num_attrs = len(line.split())\n",
    "        elif index == max_n:\n",
    "            break\n",
    "        else:\n",
    "            attr = [int(num) for i, num in enumerate(line.split()) if i>0]\n",
    "            attrs.append(attr)\n",
    "        \n",
    "    attrs = np.array(attrs)\n",
    "    print(attrs.shape)\n",
    "    return attrs, descriptions"
   ]
  },
  {
   "cell_type": "code",
   "execution_count": null,
   "metadata": {},
   "outputs": [],
   "source": [
    "# load all the data\n",
    "data = load(n=1000)\n",
    "print(data.shape)\n",
    "attrs, descriptions = load_attrs()"
   ]
  },
  {
   "cell_type": "code",
   "execution_count": null,
   "metadata": {
    "scrolled": false
   },
   "outputs": [],
   "source": [
    "# check the attributes are correct\n",
    "print(descriptions)\n",
    "for i in range(10, 15):\n",
    "    plt.imshow(data[i])\n",
    "    plt.show()\n",
    "    for attr in ['Male', 'Attractive', 'Smiling', 'Pale_Skin']:\n",
    "        print(attr, attrs[i][descriptions.index(attr)])"
   ]
  },
  {
   "cell_type": "code",
   "execution_count": null,
   "metadata": {},
   "outputs": [],
   "source": [
    "# check features\n",
    "print(descriptions)\n",
    "attr = 'Goatee'\n",
    "inds = [i for i in range(1000) if attrs[i][descriptions.index(attr)]==1]\n",
    "plot([data[i] for i in inds[8:16]], 8)"
   ]
  },
  {
   "cell_type": "code",
   "execution_count": null,
   "metadata": {},
   "outputs": [],
   "source": []
  }
 ],
 "metadata": {
  "kernelspec": {
   "display_name": "Python 3",
   "language": "python",
   "name": "python3"
  },
  "language_info": {
   "codemirror_mode": {
    "name": "ipython",
    "version": 3
   },
   "file_extension": ".py",
   "mimetype": "text/x-python",
   "name": "python",
   "nbconvert_exporter": "python",
   "pygments_lexer": "ipython3",
   "version": "3.7.7"
  }
 },
 "nbformat": 4,
 "nbformat_minor": 4
}
