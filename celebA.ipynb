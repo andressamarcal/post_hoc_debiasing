{
 "cells": [
  {
   "cell_type": "markdown",
   "metadata": {},
   "source": [
    "# CelebA"
   ]
  },
  {
   "cell_type": "markdown",
   "metadata": {},
   "source": [
    "## Download using `torchvision.datasets.CelebA` e.g. in `post_hoc_celeba.py`\n",
    " - or else download with these links\n",
    "     - https://drive.google.com/file/d/0B7EVK8r0v71pZjFTYXZWM3FlRnM/view?usp=sharing\n",
    "     - https://drive.google.com/file/d/0B7EVK8r0v71pd0FJY3Blby1HUTQ/view?usp=sharing"
   ]
  },
  {
   "cell_type": "code",
   "execution_count": null,
   "metadata": {},
   "outputs": [],
   "source": [
    "%load_ext autoreload\n",
    "%autoreload 2\n",
    "%matplotlib inline"
   ]
  },
  {
   "cell_type": "code",
   "execution_count": null,
   "metadata": {},
   "outputs": [],
   "source": [
    "import numpy as np\n",
    "import matplotlib.pyplot as plt\n",
    "import sys\n",
    "import os\n",
    "from os import listdir\n",
    "from os.path import isfile, join\n",
    "from pathlib import Path\n",
    "from PIL import Image\n",
    "import cv2"
   ]
  },
  {
   "cell_type": "markdown",
   "metadata": {},
   "source": [
    "# Data exploration"
   ]
  },
  {
   "cell_type": "code",
   "execution_count": null,
   "metadata": {},
   "outputs": [],
   "source": [
    "def load(n=100, folder='~/post_hoc_debiasing/data/celeba/img_align_celeba/'):\n",
    "    # convert the folder of images into a numpy array\n",
    "    \n",
    "    data = []\n",
    "    num = 0\n",
    "    for i in range(1,n+1):\n",
    "        file = str(i).zfill(6)+'.jpg'\n",
    "        img = Image.open(join(os.path.expanduser(folder), file))\n",
    "        img = np.array(img)\n",
    "        data.append(img)\n",
    "\n",
    "    data = np.array(data)\n",
    "    return data\n",
    "\n",
    "def plot(data, n):\n",
    "    # quick plotting method\n",
    "    plt.figure(figsize=(20,10))\n",
    "    columns = n\n",
    "        \n",
    "    for i in range(n):\n",
    "        plt.subplot(1, columns, i + 1)\n",
    "        img = data[i]\n",
    "        img = img.astype(int)\n",
    "        plt.axis('off')\n",
    "        plt.imshow(img)\n",
    "\n",
    "def load_attrs(file='~/post_hoc_debiasing/data/celeba/list_attr_celeba.txt', max_n=-1):\n",
    "    # parse the features\n",
    "    f = open(os.path.expanduser(file), \"r\")\n",
    "    attrs = []\n",
    "    descriptions = []\n",
    "    num_attrs = 0\n",
    "    n = 0\n",
    "    for index,line in enumerate(f):\n",
    "    \n",
    "        #the first row is the header\n",
    "        if index == 0:\n",
    "            n = line\n",
    "        elif index == 1:\n",
    "            descriptions = [*line.split()]\n",
    "            num_attrs = len(line.split())\n",
    "        elif index == max_n:\n",
    "            break\n",
    "        else:\n",
    "            attr = [int(num) for i, num in enumerate(line.split()) if i>0]\n",
    "            attrs.append(attr)\n",
    "        \n",
    "    attrs = np.array(attrs)\n",
    "    print(attrs.shape)\n",
    "    return attrs, descriptions"
   ]
  },
  {
   "cell_type": "code",
   "execution_count": null,
   "metadata": {},
   "outputs": [],
   "source": [
    "# load all the data\n",
    "data = load(n=5000) # 202599\n",
    "print(data.shape)\n",
    "attrs, descriptions = load_attrs()"
   ]
  },
  {
   "cell_type": "code",
   "execution_count": null,
   "metadata": {
    "scrolled": false
   },
   "outputs": [],
   "source": [
    "# check the attributes are correct\n",
    "print(descriptions)\n",
    "for i in range(3):\n",
    "    plt.imshow(data[i])\n",
    "    plt.show()\n",
    "    for attr in ['Male', 'Attractive', 'Smiling', 'Pale_Skin']:\n",
    "        print(attr, attrs[i][descriptions.index(attr)])"
   ]
  },
  {
   "cell_type": "code",
   "execution_count": null,
   "metadata": {},
   "outputs": [],
   "source": [
    "# check features\n",
    "print(descriptions)\n",
    "attr = 'Goatee'\n",
    "inds = [i for i in range(1000) if attrs[i][descriptions.index(attr)]==1]\n",
    "plot([data[i] for i in inds[8:16]], 8)"
   ]
  },
  {
   "cell_type": "code",
   "execution_count": null,
   "metadata": {},
   "outputs": [],
   "source": []
  },
  {
   "cell_type": "markdown",
   "metadata": {},
   "source": [
    "## Load from torch"
   ]
  },
  {
   "cell_type": "code",
   "execution_count": null,
   "metadata": {},
   "outputs": [],
   "source": [
    "import math\n",
    "\n",
    "import matplotlib.pyplot as plt\n",
    "import numpy as np\n",
    "import torch\n",
    "import torch.nn as nn\n",
    "import torch.nn.functional as F\n",
    "import torch.optim as optim\n",
    "import torchvision\n",
    "from sklearn.metrics import accuracy_score, roc_auc_score, roc_curve\n",
    "from torchvision import models, transforms"
   ]
  },
  {
   "cell_type": "code",
   "execution_count": null,
   "metadata": {},
   "outputs": [],
   "source": [
    "def load_celeba(num_workers=2):\n",
    "    transform = transforms.ToTensor()\n",
    "\n",
    "    trainset = torchvision.datasets.CelebA(root='./data', download=True, split='train', transform=transform)\n",
    "    print(len(trainset))\n",
    "\n",
    "    trainset, valset = torch.utils.data.random_split(trainset, [int(len(trainset)*0.7), int(len(trainset)*0.3)])\n",
    "    trainloader = torch.utils.data.DataLoader(trainset, batch_size=4,\n",
    "                                              shuffle=True, num_workers=num_workers)\n",
    "    valloader = torch.utils.data.DataLoader(valset, batch_size=4,\n",
    "                                            shuffle=True, num_workers=num_workers)\n",
    "\n",
    "    testset = torchvision.datasets.CelebA(root='./data', split='test',\n",
    "                                                download=True, transform=transform)\n",
    "    testloader = torch.utils.data.DataLoader(testset, batch_size=4,\n",
    "                                             shuffle=False, num_workers=num_workers)\n",
    "    return trainset, valset, testset, trainloader, valloader, testloader"
   ]
  },
  {
   "cell_type": "code",
   "execution_count": null,
   "metadata": {},
   "outputs": [],
   "source": [
    "trainset, valset, tetstset, trainloader, valloader, testloader = load_celeba()\n",
    "device = torch.device(\"cuda:0\" if torch.cuda.is_available() else \"cpu\")"
   ]
  },
  {
   "cell_type": "code",
   "execution_count": null,
   "metadata": {
    "scrolled": false
   },
   "outputs": [],
   "source": [
    "def imshow(img):\n",
    "    npimg = img.numpy()\n",
    "    plt.imshow(np.transpose(npimg, (1, 2, 0)))\n",
    "    plt.show()\n",
    "    \n",
    "def get_single_attr(labels, attr='Attractive'):\n",
    "    descriptions = ['5_o_Clock_Shadow', 'Arched_Eyebrows', 'Attractive', \\\n",
    "                    'Bags_Under_Eyes', 'Bald', 'Bangs', 'Big_Lips', 'Big_Nose', \\\n",
    "                    'Black_Hair', 'Blond_Hair', 'Blurry', 'Brown_Hair', \\\n",
    "                    'Bushy_Eyebrows', 'Chubby', 'Double_Chin', 'Eyeglasses', \\\n",
    "                    'Goatee', 'Gray_Hair', 'Heavy_Makeup', 'High_Cheekbones', \\\n",
    "                    'Male', 'Mouth_Slightly_Open', 'Mustache', 'Narrow_Eyes', \\\n",
    "                    'No_Beard', 'Oval_Face', 'Pale_Skin', 'Pointy_Nose', \\\n",
    "                    'Receding_Hairline', 'Rosy_Cheeks', 'Sideburns', 'Smiling', \\\n",
    "                    'Straight_Hair', 'Wavy_Hair', 'Wearing_Earrings', 'Wearing_Hat', \\\n",
    "                    'Wearing_Lipstick', 'Wearing_Necklace', 'Wearing_Necktie', \\\n",
    "                    'Young']\n",
    "    print(labels.shape)\n",
    "    attrs = []\n",
    "    for i in range(len(labels)):\n",
    "        attrs.append(labels[i][descriptions.index(attr)])\n",
    "    attrs = torch.from_numpy(np.array(attrs))\n",
    "    print(attrs.shape)\n",
    "    return attrs\n",
    "    \n",
    "for i, data in enumerate(trainloader, 0):\n",
    "    # get the inputs; data is a list of [inputs, labels]\n",
    "    inputs, labels = data[0].to(device), data[1].to(device)\n",
    "    img = inputs[0]\n",
    "    label = labels[0]\n",
    "    labels = get_single_attr(labels)\n",
    "    if label[descriptions.index(attr)]==1:\n",
    "        imshow(img)\n",
    "    if i > 1:\n",
    "        break\n"
   ]
  },
  {
   "cell_type": "code",
   "execution_count": null,
   "metadata": {},
   "outputs": [],
   "source": []
  },
  {
   "cell_type": "code",
   "execution_count": null,
   "metadata": {},
   "outputs": [],
   "source": []
  }
 ],
 "metadata": {
  "kernelspec": {
   "display_name": "Python 3",
   "language": "python",
   "name": "python3"
  },
  "language_info": {
   "codemirror_mode": {
    "name": "ipython",
    "version": 3
   },
   "file_extension": ".py",
   "mimetype": "text/x-python",
   "name": "python",
   "nbconvert_exporter": "python",
   "pygments_lexer": "ipython3",
   "version": "3.7.7"
  }
 },
 "nbformat": 4,
 "nbformat_minor": 4
}
