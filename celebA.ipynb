{
 "cells": [
  {
   "cell_type": "markdown",
   "metadata": {},
   "source": [
    "# CelebA"
   ]
  },
  {
   "cell_type": "code",
   "execution_count": null,
   "metadata": {},
   "outputs": [],
   "source": [
    "%load_ext autoreload\n",
    "%autoreload 2\n",
    "%matplotlib inline"
   ]
  },
  {
   "cell_type": "code",
   "execution_count": null,
   "metadata": {},
   "outputs": [],
   "source": [
    "import numpy as np\n",
    "import matplotlib.pyplot as plt\n",
    "import sys\n",
    "import os\n",
    "from os import listdir\n",
    "from os.path import isfile, join\n",
    "from pathlib import Path\n",
    "from PIL import Image\n",
    "import cv2\n",
    "\n",
    "import torch\n",
    "import torch.nn as nn\n",
    "import torch.nn.functional as F\n",
    "import torch.optim as optim\n",
    "import yaml\n",
    "from sklearn.metrics import roc_auc_score\n",
    "from torchvision import models, transforms\n",
    "\n",
    "from celeb_race import CelebRace, unambiguous\n",
    "from post_hoc_celeba import load_celeba, get_resnet_model"
   ]
  },
  {
   "cell_type": "code",
   "execution_count": null,
   "metadata": {},
   "outputs": [],
   "source": [
    "device = torch.device(\"cuda:0\" if torch.cuda.is_available() else \"cpu\")\n",
    "torch.manual_seed(0)\n",
    "\n",
    "descriptions = ['5_o_Clock_Shadow', 'Arched_Eyebrows', 'Attractive',\n",
    "                'Bags_Under_Eyes', 'Bald', 'Bangs', 'Big_Lips', 'Big_Nose',\n",
    "                'Black_Hair', 'Blond_Hair', 'Blurry', 'Brown_Hair',\n",
    "                'Bushy_Eyebrows', 'Chubby', 'Double_Chin', 'Eyeglasses',\n",
    "                'Goatee', 'Gray_Hair', 'Heavy_Makeup', 'High_Cheekbones',\n",
    "                'Male', 'Mouth_Slightly_Open', 'Mustache', 'Narrow_Eyes',\n",
    "                'No_Beard', 'Oval_Face', 'Pale_Skin', 'Pointy_Nose',\n",
    "                'Receding_Hairline', 'Rosy_Cheeks', 'Sideburns', 'Smiling',\n",
    "                'Straight_Hair', 'Wavy_Hair', 'Wearing_Earrings', 'Wearing_Hat',\n",
    "                'Wearing_Lipstick', 'Wearing_Necklace', 'Wearing_Necktie',\n",
    "                'Young', 'White', 'Black', 'Asian', 'Index']"
   ]
  },
  {
   "cell_type": "code",
   "execution_count": null,
   "metadata": {},
   "outputs": [],
   "source": [
    "def image_from_index(index, folder='~/post_hoc_debiasing/data/celeba/img_align_celeba/', show=False):\n",
    "    file = str(index).zfill(6)+'.jpg'\n",
    "    img = Image.open(join(os.path.expanduser(folder), file))\n",
    "    if show:\n",
    "        plt.imshow(img)\n",
    "        plt.show()\n",
    "    return img\n",
    "\n",
    "def imshow_from_tensor(img):\n",
    "    # plot from a tensor. Only works for non-transformed data\n",
    "    npimg = img.numpy()\n",
    "    plt.imshow(np.transpose(npimg, (1, 2, 0)))\n",
    "    plt.show()\n",
    "    \n",
    "def imshow_group(data, n):\n",
    "    plt.figure(figsize=(20,10))\n",
    "    columns = n\n",
    "        \n",
    "    for i in range(n):\n",
    "        plt.subplot(1, columns, i + 1)\n",
    "        img = data[i]\n",
    "        #img = img.astype(int)\n",
    "        plt.axis('off')\n",
    "        plt.imshow(img)"
   ]
  },
  {
   "cell_type": "code",
   "execution_count": null,
   "metadata": {},
   "outputs": [],
   "source": [
    "def show_bad_predictions(checkpoint='by_checkpoint.pt', \n",
    "                         prediction_attr='Young', \n",
    "                         protected_attr='Black',\n",
    "                         threshold=0,\n",
    "                         n=8):\n",
    "    \"\"\"\n",
    "    Display images of people from the protected class who were misclassified\n",
    "    \"\"\"\n",
    "    \n",
    "    # load data\n",
    "    _, _, _, trainloader, valloader, testloader = load_celeba(trainsize=1000, \n",
    "                                                              testsize=10000, \n",
    "                                                              num_workers=0, \n",
    "                                                              batch_size=4,\n",
    "                                                              transform_type='tensor')\n",
    "    # load model and predict\n",
    "    net = get_resnet_model()\n",
    "    net.load_state_dict(torch.load(checkpoint)['model_state_dict'])\n",
    "    \n",
    "    # find bad predictions\n",
    "    prediction_index = descriptions.index(prediction_attr)\n",
    "    protected_index = descriptions.index(protected_attr)\n",
    "    ind = descriptions.index('Index')\n",
    "    \n",
    "    bad_imgs = []\n",
    "    for (inputs, labels) in testloader:\n",
    "        inputs, labels = inputs.to(device), labels.to(device)\n",
    "        outputs = net(inputs)[:, 0]\n",
    "\n",
    "        for i in range(len(inputs)):\n",
    "            label = labels[i][prediction_index].item()\n",
    "            protected = labels[i][protected_index].item()\n",
    "            output = outputs[i].item()\n",
    "            \n",
    "            # save images from the protected class with a positive label but negative prediction\n",
    "            if protected and label and output < threshold:\n",
    "                print('prediction', output)\n",
    "                index = labels[i][ind].item()\n",
    "                bad_imgs.append(image_from_index(index))\n",
    "\n",
    "        if len(bad_imgs) >= n:\n",
    "            break\n",
    "    \n",
    "    imshow_group(bad_imgs[:8], 8)"
   ]
  },
  {
   "cell_type": "code",
   "execution_count": null,
   "metadata": {},
   "outputs": [],
   "source": [
    "show_bad_predictions(checkpoint='by_checkpoint.pt', \n",
    "                     prediction_attr='Young', \n",
    "                     protected_attr='Black',\n",
    "                     threshold=1)"
   ]
  },
  {
   "cell_type": "code",
   "execution_count": null,
   "metadata": {},
   "outputs": [],
   "source": []
  },
  {
   "cell_type": "code",
   "execution_count": null,
   "metadata": {},
   "outputs": [],
   "source": []
  },
  {
   "cell_type": "markdown",
   "metadata": {},
   "source": [
    "# Data exploration"
   ]
  },
  {
   "cell_type": "code",
   "execution_count": null,
   "metadata": {},
   "outputs": [],
   "source": [
    "def load(n=100, folder='~/post_hoc_debiasing/data/celeba/img_align_celeba/'):\n",
    "    # convert the folder of images into a numpy array\n",
    "    \n",
    "    data = []\n",
    "    num = 0\n",
    "    for i in range(1,n+1):\n",
    "        file = str(i).zfill(6)+'.jpg'\n",
    "        img = Image.open(join(os.path.expanduser(folder), file))\n",
    "        img = np.array(img)\n",
    "        data.append(img)\n",
    "\n",
    "    data = np.array(data)\n",
    "    return data\n",
    "\n",
    "\n",
    "\n",
    "def load_race(filepath='~/post_hoc_debiasing/celebrace/'):\n",
    "    races = []\n",
    "    #for i,file in enumerate(['black_100k.npy', 'asian_100k.npy', 'white_100k.npy']):\n",
    "    for i,file in enumerate(['black_full.npy', 'asian_full.npy', 'white_full.npy']):\n",
    "        races.append(np.load(os.path.expanduser(os.path.join(filepath, file))))\n",
    "    return races\n",
    "\n",
    "def load_attrs(file='~/post_hoc_debiasing/data/celeba/list_attr_celeba.txt', max_n=-1):\n",
    "    # parse the features\n",
    "    f = open(os.path.expanduser(file), \"r\")\n",
    "    attrs = []\n",
    "    descriptions = []\n",
    "    num_attrs = 0\n",
    "    n = 0\n",
    "    for index,line in enumerate(f):\n",
    "    \n",
    "        #the first row is the header\n",
    "        if index == 0:\n",
    "            n = line\n",
    "        elif index == 1:\n",
    "            descriptions = [*line.split()]\n",
    "            num_attrs = len(line.split())\n",
    "        elif index == max_n:\n",
    "            break\n",
    "        else:\n",
    "            attr = [int(num) for i, num in enumerate(line.split()) if i>0]\n",
    "            attrs.append(attr)\n",
    "        \n",
    "    attrs = np.array(attrs)\n",
    "    print(attrs.shape)\n",
    "    return attrs, descriptions"
   ]
  },
  {
   "cell_type": "code",
   "execution_count": null,
   "metadata": {},
   "outputs": [],
   "source": [
    "# load all the data\n",
    "data = load(n=20000) # 202599\n",
    "print(data.shape)\n",
    "attrs, descriptions = load_attrs()\n",
    "races = load_race()\n"
   ]
  },
  {
   "cell_type": "code",
   "execution_count": null,
   "metadata": {
    "scrolled": false
   },
   "outputs": [],
   "source": [
    "# check the attributes are correct\n",
    "print(descriptions)\n",
    "for i in range(3):\n",
    "    plt.imshow(data[i])\n",
    "    plt.show()\n",
    "    for attr in ['Male', 'Attractive', 'Smiling', 'Pale_Skin']:\n",
    "        print(attr, attrs[i][descriptions.index(attr)])\n",
    "    print('black', races[0][i])"
   ]
  },
  {
   "cell_type": "code",
   "execution_count": null,
   "metadata": {},
   "outputs": [],
   "source": [
    "# check features\n",
    "print(descriptions)\n",
    "attr = 'Goatee'\n",
    "inds = [i for i in range(1000) if attrs[i][descriptions.index(attr)]==1]\n",
    "imshow_group([data[i] for i in inds[8:16]], 8)"
   ]
  },
  {
   "cell_type": "code",
   "execution_count": null,
   "metadata": {},
   "outputs": [],
   "source": [
    "# check races\n",
    "for race in range(1):\n",
    "    inds = [i for i in range(20000) if races[race][i]>.6]\n",
    "    print(len(inds))\n",
    "    k = 0\n",
    "    print(inds[8*k:8*(k+1)])\n",
    "    imshow_group([data[i] for i in inds[8*k:8*(k+1)]], 8)\n"
   ]
  },
  {
   "cell_type": "code",
   "execution_count": null,
   "metadata": {
    "scrolled": false
   },
   "outputs": [],
   "source": [
    "# check races\n",
    "for race in [0,2]:\n",
    "    print('Attractive')\n",
    "    inds = [i for i in range(20000) if races[race][i]>.8 and attrs[i][descriptions.index('Attractive')]==1]\n",
    "    imshow_group([data[i] for i in inds[0:8]], 8)\n",
    "    plt.show()\n",
    "    print('Unattractive')\n",
    "    inds = [i for i in range(10000) if races[race][i]>.8 and attrs[i][descriptions.index('Attractive')]==-1]\n",
    "    imshow_group([data[i] for i in inds[0:8]], 8)\n",
    "    plt.show()\n"
   ]
  },
  {
   "cell_type": "code",
   "execution_count": null,
   "metadata": {},
   "outputs": [],
   "source": [
    "inds = [i for i in range(1000) if (attrs[i][descriptions.index('Male')]==1 and attrs[i][descriptions.index('Attractive')]==1)]\n",
    "imshow_group([data[i] for i in inds[0:8]], 8)\n",
    "inds = [i for i in range(1000) if (attrs[i][descriptions.index('Male')]==-1) and (attrs[i][descriptions.index('Attractive')]==1)]\n",
    "imshow_group([data[i] for i in inds[0:8]], 8)\n",
    "inds = [i for i in range(1000) if (attrs[i][descriptions.index('Male')]==1 and attrs[i][descriptions.index('Attractive')]==-1)]\n",
    "imshow_group([data[i] for i in inds[0:8]], 8)\n",
    "inds = [i for i in range(1000) if (attrs[i][descriptions.index('Male')]==-1) and (attrs[i][descriptions.index('Attractive')]==-1)]\n",
    "imshow_group([data[i] for i in inds[0:8]], 8)"
   ]
  },
  {
   "cell_type": "code",
   "execution_count": null,
   "metadata": {},
   "outputs": [],
   "source": [
    "inds = [i for i in range(1000) if (attrs[i][descriptions.index('Attractive')]==1)]\n",
    "imshow_group([data[i] for i in inds[0:8]], 8)\n",
    "imshow_group([data[i] for i in inds[8:16]], 8)\n",
    "imshow_group([data[i] for i in inds[16:24]], 8)\n",
    "inds = [i for i in range(1000) if (attrs[i][descriptions.index('Attractive')]==-1)]\n",
    "imshow_group([data[i] for i in inds[0:8]], 8)\n",
    "imshow_group([data[i] for i in inds[8:16]], 8)\n",
    "imshow_group([data[i] for i in inds[16:24]], 8)\n"
   ]
  },
  {
   "cell_type": "code",
   "execution_count": null,
   "metadata": {},
   "outputs": [],
   "source": [
    "# get statistics for races\n",
    "counts = [0,0,0]\n",
    "for i in range(len(races[0])):\n",
    "    for r in range(3):\n",
    "        counts[r] += (races[r][i] > .501)\n",
    "\n",
    "counts = [c / len(races[0]) for c in counts]\n",
    "print(counts)"
   ]
  }
 ],
 "metadata": {
  "kernelspec": {
   "display_name": "Python 3",
   "language": "python",
   "name": "python3"
  },
  "language_info": {
   "codemirror_mode": {
    "name": "ipython",
    "version": 3
   },
   "file_extension": ".py",
   "mimetype": "text/x-python",
   "name": "python",
   "nbconvert_exporter": "python",
   "pygments_lexer": "ipython3",
   "version": "3.7.7"
  }
 },
 "nbformat": 4,
 "nbformat_minor": 4
}
